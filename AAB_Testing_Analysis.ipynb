{
 "cells": [
  {
   "cell_type": "markdown",
   "metadata": {},
   "source": [
    "# A/A/B TESTING ANALYSIS"
   ]
  },
  {
   "cell_type": "markdown",
   "metadata": {},
   "source": [
    "## Introduction\n",
    "\n",
    "The purpose of this project is to identify which set of fonts produces better results. In order to come to a conclusion, we need to study the sales funnel and analyze an A/A/B test. \n",
    "We also need to find out how users reach the purchase stage, how many users actually make it to this stage, how many get stuck at previous stages and which stages in particular. \n",
    "The users are split into three groups: two control groups get the old fonts(246 and 247) and one test group(248) gets the new ones. \n",
    "\n",
    "### Contents\n",
    "\n",
    "- Introduction\n",
    "- Initialization\n",
    "- Data preprocessing\n",
    "    - Missing values\n",
    "    - Dulicates\n",
    "    - Correct data types\n",
    "- Data Analysis\n",
    "    - Study and check the data\n",
    "    - Study the event funnel\n",
    "    - Study the result of the experiment\n",
    "        - Check whether the difference between the alpha groups, 246 and 247, is statistically significant\n",
    "        - Check whether the difference between the alpha and beta groups, 246 and 248, is statistically significant\n",
    "        - Check whether the difference between the alpha and beta groups, 247 and 248, is statistically significant\n",
    "- General Conclusion"
   ]
  },
  {
   "cell_type": "markdown",
   "metadata": {},
   "source": [
    "## Data Initialization"
   ]
  },
  {
   "cell_type": "code",
   "execution_count": 1,
   "metadata": {},
   "outputs": [],
   "source": [
    "# load libraries\n",
    "import pandas as pd\n",
    "import seaborn as sns\n",
    "import plotly.express as px\n",
    "import matplotlib.pyplot as plt\n",
    "import re\n",
    "from scipy import stats as st\n",
    "import math\n",
    "import numpy as np"
   ]
  },
  {
   "cell_type": "code",
   "execution_count": 2,
   "metadata": {},
   "outputs": [],
   "source": [
    "# load datset\n",
    "log_data = pd.read_csv('/datasets/logs_exp_us.csv', sep = '\\t')"
   ]
  },
  {
   "cell_type": "code",
   "execution_count": 3,
   "metadata": {},
   "outputs": [
    {
     "data": {
      "text/html": [
       "<div>\n",
       "<style scoped>\n",
       "    .dataframe tbody tr th:only-of-type {\n",
       "        vertical-align: middle;\n",
       "    }\n",
       "\n",
       "    .dataframe tbody tr th {\n",
       "        vertical-align: top;\n",
       "    }\n",
       "\n",
       "    .dataframe thead th {\n",
       "        text-align: right;\n",
       "    }\n",
       "</style>\n",
       "<table border=\"1\" class=\"dataframe\">\n",
       "  <thead>\n",
       "    <tr style=\"text-align: right;\">\n",
       "      <th></th>\n",
       "      <th>EventName</th>\n",
       "      <th>DeviceIDHash</th>\n",
       "      <th>EventTimestamp</th>\n",
       "      <th>ExpId</th>\n",
       "    </tr>\n",
       "  </thead>\n",
       "  <tbody>\n",
       "    <tr>\n",
       "      <th>0</th>\n",
       "      <td>MainScreenAppear</td>\n",
       "      <td>4575588528974610257</td>\n",
       "      <td>1564029816</td>\n",
       "      <td>246</td>\n",
       "    </tr>\n",
       "    <tr>\n",
       "      <th>1</th>\n",
       "      <td>MainScreenAppear</td>\n",
       "      <td>7416695313311560658</td>\n",
       "      <td>1564053102</td>\n",
       "      <td>246</td>\n",
       "    </tr>\n",
       "    <tr>\n",
       "      <th>2</th>\n",
       "      <td>PaymentScreenSuccessful</td>\n",
       "      <td>3518123091307005509</td>\n",
       "      <td>1564054127</td>\n",
       "      <td>248</td>\n",
       "    </tr>\n",
       "    <tr>\n",
       "      <th>3</th>\n",
       "      <td>CartScreenAppear</td>\n",
       "      <td>3518123091307005509</td>\n",
       "      <td>1564054127</td>\n",
       "      <td>248</td>\n",
       "    </tr>\n",
       "    <tr>\n",
       "      <th>4</th>\n",
       "      <td>PaymentScreenSuccessful</td>\n",
       "      <td>6217807653094995999</td>\n",
       "      <td>1564055322</td>\n",
       "      <td>248</td>\n",
       "    </tr>\n",
       "  </tbody>\n",
       "</table>\n",
       "</div>"
      ],
      "text/plain": [
       "                 EventName         DeviceIDHash  EventTimestamp  ExpId\n",
       "0         MainScreenAppear  4575588528974610257      1564029816    246\n",
       "1         MainScreenAppear  7416695313311560658      1564053102    246\n",
       "2  PaymentScreenSuccessful  3518123091307005509      1564054127    248\n",
       "3         CartScreenAppear  3518123091307005509      1564054127    248\n",
       "4  PaymentScreenSuccessful  6217807653094995999      1564055322    248"
      ]
     },
     "execution_count": 3,
     "metadata": {},
     "output_type": "execute_result"
    }
   ],
   "source": [
    "# print top rows of dataset\n",
    "log_data.head()"
   ]
  },
  {
   "cell_type": "code",
   "execution_count": 4,
   "metadata": {},
   "outputs": [],
   "source": [
    "# change column names\n",
    "log_data.columns = ['event_name', 'deviceID_hash', 'event_timestamp', 'expId']"
   ]
  },
  {
   "cell_type": "markdown",
   "metadata": {},
   "source": [
    "### Data Preprocessing"
   ]
  },
  {
   "cell_type": "code",
   "execution_count": 5,
   "metadata": {},
   "outputs": [
    {
     "name": "stdout",
     "output_type": "stream",
     "text": [
      "<class 'pandas.core.frame.DataFrame'>\n",
      "RangeIndex: 244126 entries, 0 to 244125\n",
      "Data columns (total 4 columns):\n",
      " #   Column           Non-Null Count   Dtype \n",
      "---  ------           --------------   ----- \n",
      " 0   event_name       244126 non-null  object\n",
      " 1   deviceID_hash    244126 non-null  int64 \n",
      " 2   event_timestamp  244126 non-null  int64 \n",
      " 3   expId            244126 non-null  int64 \n",
      "dtypes: int64(3), object(1)\n",
      "memory usage: 7.5+ MB\n"
     ]
    }
   ],
   "source": [
    "# general info of dataframe\n",
    "log_data.info()"
   ]
  },
  {
   "cell_type": "markdown",
   "metadata": {},
   "source": [
    "From the summary above, there are no missing values in the dataset."
   ]
  },
  {
   "cell_type": "code",
   "execution_count": 6,
   "metadata": {},
   "outputs": [
    {
     "data": {
      "text/plain": [
       "413"
      ]
     },
     "execution_count": 6,
     "metadata": {},
     "output_type": "execute_result"
    }
   ],
   "source": [
    "# check for duplicates\n",
    "log_data.duplicated().sum()"
   ]
  },
  {
   "cell_type": "markdown",
   "metadata": {},
   "source": [
    "There are 413 duplicates in the dataset, we thus have to drop these rows."
   ]
  },
  {
   "cell_type": "code",
   "execution_count": 7,
   "metadata": {},
   "outputs": [],
   "source": [
    "# drop obvious duplicates\n",
    "log_data.drop_duplicates(inplace = True)"
   ]
  },
  {
   "cell_type": "code",
   "execution_count": 8,
   "metadata": {},
   "outputs": [
    {
     "data": {
      "text/plain": [
       "0"
      ]
     },
     "execution_count": 8,
     "metadata": {},
     "output_type": "execute_result"
    }
   ],
   "source": [
    "# check for duplicates\n",
    "log_data.duplicated().sum()"
   ]
  },
  {
   "cell_type": "markdown",
   "metadata": {},
   "source": [
    "Now that the data has been preprocessed, we can continue on to distinguishing the timestamp to date and time."
   ]
  },
  {
   "cell_type": "code",
   "execution_count": 9,
   "metadata": {},
   "outputs": [],
   "source": [
    "# change timestamp column to date and time column\n",
    "log_data['date_time'] = pd.to_datetime(log_data['event_timestamp'],unit='s')"
   ]
  },
  {
   "cell_type": "code",
   "execution_count": 10,
   "metadata": {},
   "outputs": [],
   "source": [
    "# create column for dates\n",
    "log_data['date'] = log_data['date_time'].dt.date"
   ]
  },
  {
   "cell_type": "code",
   "execution_count": 11,
   "metadata": {},
   "outputs": [],
   "source": [
    "# change datatype to datetime\n",
    "log_data['date'] = pd.to_datetime(log_data['date'])"
   ]
  },
  {
   "cell_type": "code",
   "execution_count": 12,
   "metadata": {},
   "outputs": [
    {
     "data": {
      "text/html": [
       "<div>\n",
       "<style scoped>\n",
       "    .dataframe tbody tr th:only-of-type {\n",
       "        vertical-align: middle;\n",
       "    }\n",
       "\n",
       "    .dataframe tbody tr th {\n",
       "        vertical-align: top;\n",
       "    }\n",
       "\n",
       "    .dataframe thead th {\n",
       "        text-align: right;\n",
       "    }\n",
       "</style>\n",
       "<table border=\"1\" class=\"dataframe\">\n",
       "  <thead>\n",
       "    <tr style=\"text-align: right;\">\n",
       "      <th></th>\n",
       "      <th>event_name</th>\n",
       "      <th>deviceID_hash</th>\n",
       "      <th>event_timestamp</th>\n",
       "      <th>expId</th>\n",
       "      <th>date_time</th>\n",
       "      <th>date</th>\n",
       "    </tr>\n",
       "  </thead>\n",
       "  <tbody>\n",
       "    <tr>\n",
       "      <th>0</th>\n",
       "      <td>MainScreenAppear</td>\n",
       "      <td>4575588528974610257</td>\n",
       "      <td>1564029816</td>\n",
       "      <td>246</td>\n",
       "      <td>2019-07-25 04:43:36</td>\n",
       "      <td>2019-07-25</td>\n",
       "    </tr>\n",
       "    <tr>\n",
       "      <th>1</th>\n",
       "      <td>MainScreenAppear</td>\n",
       "      <td>7416695313311560658</td>\n",
       "      <td>1564053102</td>\n",
       "      <td>246</td>\n",
       "      <td>2019-07-25 11:11:42</td>\n",
       "      <td>2019-07-25</td>\n",
       "    </tr>\n",
       "    <tr>\n",
       "      <th>2</th>\n",
       "      <td>PaymentScreenSuccessful</td>\n",
       "      <td>3518123091307005509</td>\n",
       "      <td>1564054127</td>\n",
       "      <td>248</td>\n",
       "      <td>2019-07-25 11:28:47</td>\n",
       "      <td>2019-07-25</td>\n",
       "    </tr>\n",
       "    <tr>\n",
       "      <th>3</th>\n",
       "      <td>CartScreenAppear</td>\n",
       "      <td>3518123091307005509</td>\n",
       "      <td>1564054127</td>\n",
       "      <td>248</td>\n",
       "      <td>2019-07-25 11:28:47</td>\n",
       "      <td>2019-07-25</td>\n",
       "    </tr>\n",
       "    <tr>\n",
       "      <th>4</th>\n",
       "      <td>PaymentScreenSuccessful</td>\n",
       "      <td>6217807653094995999</td>\n",
       "      <td>1564055322</td>\n",
       "      <td>248</td>\n",
       "      <td>2019-07-25 11:48:42</td>\n",
       "      <td>2019-07-25</td>\n",
       "    </tr>\n",
       "  </tbody>\n",
       "</table>\n",
       "</div>"
      ],
      "text/plain": [
       "                event_name        deviceID_hash  event_timestamp  expId  \\\n",
       "0         MainScreenAppear  4575588528974610257       1564029816    246   \n",
       "1         MainScreenAppear  7416695313311560658       1564053102    246   \n",
       "2  PaymentScreenSuccessful  3518123091307005509       1564054127    248   \n",
       "3         CartScreenAppear  3518123091307005509       1564054127    248   \n",
       "4  PaymentScreenSuccessful  6217807653094995999       1564055322    248   \n",
       "\n",
       "            date_time       date  \n",
       "0 2019-07-25 04:43:36 2019-07-25  \n",
       "1 2019-07-25 11:11:42 2019-07-25  \n",
       "2 2019-07-25 11:28:47 2019-07-25  \n",
       "3 2019-07-25 11:28:47 2019-07-25  \n",
       "4 2019-07-25 11:48:42 2019-07-25  "
      ]
     },
     "execution_count": 12,
     "metadata": {},
     "output_type": "execute_result"
    }
   ],
   "source": [
    "# view data\n",
    "log_data.head()"
   ]
  },
  {
   "cell_type": "code",
   "execution_count": 13,
   "metadata": {},
   "outputs": [
    {
     "data": {
      "text/plain": [
       "Series([], Name: deviceID_hash, dtype: int64)"
      ]
     },
     "execution_count": 13,
     "metadata": {},
     "output_type": "execute_result"
    }
   ],
   "source": [
    "# checking if users are in multiple groups\n",
    "log_data[(log_data['expId'] == 246) & (log_data['expId'] == 247)]['deviceID_hash']"
   ]
  },
  {
   "cell_type": "code",
   "execution_count": 14,
   "metadata": {},
   "outputs": [
    {
     "data": {
      "text/plain": [
       "Series([], Name: deviceID_hash, dtype: int64)"
      ]
     },
     "execution_count": 14,
     "metadata": {},
     "output_type": "execute_result"
    }
   ],
   "source": [
    "# checking if users are in multiple groups\n",
    "log_data[(log_data['expId'] == 246) & (log_data['expId'] == 248)]['deviceID_hash']"
   ]
  },
  {
   "cell_type": "code",
   "execution_count": 15,
   "metadata": {},
   "outputs": [
    {
     "data": {
      "text/plain": [
       "Series([], Name: deviceID_hash, dtype: int64)"
      ]
     },
     "execution_count": 15,
     "metadata": {},
     "output_type": "execute_result"
    }
   ],
   "source": [
    "# checking if users are in multiple groups\n",
    "log_data[(log_data['expId'] == 247) & (log_data['expId'] == 248)]['deviceID_hash']"
   ]
  },
  {
   "cell_type": "code",
   "execution_count": 16,
   "metadata": {},
   "outputs": [
    {
     "data": {
      "text/plain": [
       "Series([], Name: deviceID_hash, dtype: int64)"
      ]
     },
     "execution_count": 16,
     "metadata": {},
     "output_type": "execute_result"
    }
   ],
   "source": [
    "# checking if users are in multiple groups\n",
    "log_data[(log_data['expId'] == 246) & (log_data['expId'] == 247) & (log_data['expId'] == 248)]['deviceID_hash']"
   ]
  },
  {
   "cell_type": "markdown",
   "metadata": {},
   "source": [
    "Per the above series of filter queries, there are no users in multiple groups simultaneously. Every user represented in the dataset are in one distinct group each."
   ]
  },
  {
   "cell_type": "markdown",
   "metadata": {},
   "source": [
    "## Data Analysis"
   ]
  },
  {
   "cell_type": "markdown",
   "metadata": {},
   "source": [
    "### Study and Check the Data"
   ]
  },
  {
   "cell_type": "code",
   "execution_count": 17,
   "metadata": {},
   "outputs": [
    {
     "name": "stdout",
     "output_type": "stream",
     "text": [
      "<class 'pandas.core.frame.DataFrame'>\n",
      "Int64Index: 243713 entries, 0 to 244125\n",
      "Data columns (total 6 columns):\n",
      " #   Column           Non-Null Count   Dtype         \n",
      "---  ------           --------------   -----         \n",
      " 0   event_name       243713 non-null  object        \n",
      " 1   deviceID_hash    243713 non-null  int64         \n",
      " 2   event_timestamp  243713 non-null  int64         \n",
      " 3   expId            243713 non-null  int64         \n",
      " 4   date_time        243713 non-null  datetime64[ns]\n",
      " 5   date             243713 non-null  datetime64[ns]\n",
      "dtypes: datetime64[ns](2), int64(3), object(1)\n",
      "memory usage: 13.0+ MB\n"
     ]
    }
   ],
   "source": [
    "# view general info\n",
    "log_data.info()"
   ]
  },
  {
   "cell_type": "code",
   "execution_count": 18,
   "metadata": {},
   "outputs": [
    {
     "data": {
      "text/plain": [
       "5"
      ]
     },
     "execution_count": 18,
     "metadata": {},
     "output_type": "execute_result"
    }
   ],
   "source": [
    "# count of unique events\n",
    "log_data['event_name'].nunique()"
   ]
  },
  {
   "cell_type": "code",
   "execution_count": 19,
   "metadata": {},
   "outputs": [
    {
     "data": {
      "text/plain": [
       "array(['MainScreenAppear', 'PaymentScreenSuccessful', 'CartScreenAppear',\n",
       "       'OffersScreenAppear', 'Tutorial'], dtype=object)"
      ]
     },
     "execution_count": 19,
     "metadata": {},
     "output_type": "execute_result"
    }
   ],
   "source": [
    "# unique events\n",
    "log_data['event_name'].unique()"
   ]
  },
  {
   "cell_type": "markdown",
   "metadata": {},
   "source": [
    "There are 5 unique events in the log as seen above."
   ]
  },
  {
   "cell_type": "code",
   "execution_count": 20,
   "metadata": {},
   "outputs": [
    {
     "data": {
      "text/plain": [
       "7551"
      ]
     },
     "execution_count": 20,
     "metadata": {},
     "output_type": "execute_result"
    }
   ],
   "source": [
    "# count of unique users\n",
    "log_data['deviceID_hash'].nunique()"
   ]
  },
  {
   "cell_type": "markdown",
   "metadata": {},
   "source": [
    "From over 200,000 logs, there are 7551 unique users recorded in the data."
   ]
  },
  {
   "cell_type": "code",
   "execution_count": 21,
   "metadata": {},
   "outputs": [
    {
     "data": {
      "text/html": [
       "<div>\n",
       "<style scoped>\n",
       "    .dataframe tbody tr th:only-of-type {\n",
       "        vertical-align: middle;\n",
       "    }\n",
       "\n",
       "    .dataframe tbody tr th {\n",
       "        vertical-align: top;\n",
       "    }\n",
       "\n",
       "    .dataframe thead th {\n",
       "        text-align: right;\n",
       "    }\n",
       "</style>\n",
       "<table border=\"1\" class=\"dataframe\">\n",
       "  <thead>\n",
       "    <tr style=\"text-align: right;\">\n",
       "      <th></th>\n",
       "      <th>date</th>\n",
       "      <th>user_count</th>\n",
       "      <th>event_count</th>\n",
       "      <th>avg_event_per_user</th>\n",
       "    </tr>\n",
       "  </thead>\n",
       "  <tbody>\n",
       "    <tr>\n",
       "      <th>0</th>\n",
       "      <td>2019-07-25</td>\n",
       "      <td>7</td>\n",
       "      <td>9</td>\n",
       "      <td>1.285714</td>\n",
       "    </tr>\n",
       "    <tr>\n",
       "      <th>1</th>\n",
       "      <td>2019-07-26</td>\n",
       "      <td>22</td>\n",
       "      <td>31</td>\n",
       "      <td>1.409091</td>\n",
       "    </tr>\n",
       "    <tr>\n",
       "      <th>2</th>\n",
       "      <td>2019-07-27</td>\n",
       "      <td>39</td>\n",
       "      <td>55</td>\n",
       "      <td>1.410256</td>\n",
       "    </tr>\n",
       "    <tr>\n",
       "      <th>3</th>\n",
       "      <td>2019-07-28</td>\n",
       "      <td>69</td>\n",
       "      <td>105</td>\n",
       "      <td>1.521739</td>\n",
       "    </tr>\n",
       "    <tr>\n",
       "      <th>4</th>\n",
       "      <td>2019-07-29</td>\n",
       "      <td>135</td>\n",
       "      <td>184</td>\n",
       "      <td>1.362963</td>\n",
       "    </tr>\n",
       "    <tr>\n",
       "      <th>5</th>\n",
       "      <td>2019-07-30</td>\n",
       "      <td>296</td>\n",
       "      <td>412</td>\n",
       "      <td>1.391892</td>\n",
       "    </tr>\n",
       "    <tr>\n",
       "      <th>6</th>\n",
       "      <td>2019-07-31</td>\n",
       "      <td>924</td>\n",
       "      <td>2030</td>\n",
       "      <td>2.196970</td>\n",
       "    </tr>\n",
       "    <tr>\n",
       "      <th>7</th>\n",
       "      <td>2019-08-01</td>\n",
       "      <td>3703</td>\n",
       "      <td>36141</td>\n",
       "      <td>9.759924</td>\n",
       "    </tr>\n",
       "    <tr>\n",
       "      <th>8</th>\n",
       "      <td>2019-08-02</td>\n",
       "      <td>3647</td>\n",
       "      <td>35554</td>\n",
       "      <td>9.748835</td>\n",
       "    </tr>\n",
       "    <tr>\n",
       "      <th>9</th>\n",
       "      <td>2019-08-03</td>\n",
       "      <td>3482</td>\n",
       "      <td>33282</td>\n",
       "      <td>9.558300</td>\n",
       "    </tr>\n",
       "    <tr>\n",
       "      <th>10</th>\n",
       "      <td>2019-08-04</td>\n",
       "      <td>3527</td>\n",
       "      <td>32968</td>\n",
       "      <td>9.347321</td>\n",
       "    </tr>\n",
       "    <tr>\n",
       "      <th>11</th>\n",
       "      <td>2019-08-05</td>\n",
       "      <td>3802</td>\n",
       "      <td>36058</td>\n",
       "      <td>9.483956</td>\n",
       "    </tr>\n",
       "    <tr>\n",
       "      <th>12</th>\n",
       "      <td>2019-08-06</td>\n",
       "      <td>3922</td>\n",
       "      <td>35788</td>\n",
       "      <td>9.124936</td>\n",
       "    </tr>\n",
       "    <tr>\n",
       "      <th>13</th>\n",
       "      <td>2019-08-07</td>\n",
       "      <td>3651</td>\n",
       "      <td>31096</td>\n",
       "      <td>8.517119</td>\n",
       "    </tr>\n",
       "  </tbody>\n",
       "</table>\n",
       "</div>"
      ],
      "text/plain": [
       "         date  user_count  event_count  avg_event_per_user\n",
       "0  2019-07-25           7            9            1.285714\n",
       "1  2019-07-26          22           31            1.409091\n",
       "2  2019-07-27          39           55            1.410256\n",
       "3  2019-07-28          69          105            1.521739\n",
       "4  2019-07-29         135          184            1.362963\n",
       "5  2019-07-30         296          412            1.391892\n",
       "6  2019-07-31         924         2030            2.196970\n",
       "7  2019-08-01        3703        36141            9.759924\n",
       "8  2019-08-02        3647        35554            9.748835\n",
       "9  2019-08-03        3482        33282            9.558300\n",
       "10 2019-08-04        3527        32968            9.347321\n",
       "11 2019-08-05        3802        36058            9.483956\n",
       "12 2019-08-06        3922        35788            9.124936\n",
       "13 2019-08-07        3651        31096            8.517119"
      ]
     },
     "execution_count": 21,
     "metadata": {},
     "output_type": "execute_result"
    }
   ],
   "source": [
    "# average number of events per user\n",
    "user_event = log_data.groupby('date').agg({'deviceID_hash':'nunique','event_name':'count'}).reset_index()\n",
    "user_event['avg_event_per_user'] = user_event['event_name']/user_event['deviceID_hash']\n",
    "user_event = user_event.rename(columns={\"deviceID_hash\": \"user_count\", \"event_name\": \"event_count\"})\n",
    "user_event"
   ]
  },
  {
   "cell_type": "code",
   "execution_count": 22,
   "metadata": {},
   "outputs": [
    {
     "data": {
      "text/plain": [
       "Timestamp('2019-07-25 04:43:36')"
      ]
     },
     "execution_count": 22,
     "metadata": {},
     "output_type": "execute_result"
    }
   ],
   "source": [
    "# minimum datetime\n",
    "log_data['date_time'].min()"
   ]
  },
  {
   "cell_type": "code",
   "execution_count": 23,
   "metadata": {},
   "outputs": [
    {
     "data": {
      "text/plain": [
       "Timestamp('2019-08-07 21:15:17')"
      ]
     },
     "execution_count": 23,
     "metadata": {},
     "output_type": "execute_result"
    }
   ],
   "source": [
    "# maximum datetime\n",
    "log_data['date_time'].max()"
   ]
  },
  {
   "cell_type": "code",
   "execution_count": 24,
   "metadata": {},
   "outputs": [
    {
     "name": "stderr",
     "output_type": "stream",
     "text": [
      "/opt/conda/lib/python3.9/site-packages/seaborn/_decorators.py:36: FutureWarning: Pass the following variable as a keyword arg: x. From version 0.12, the only valid positional argument will be `data`, and passing other arguments without an explicit keyword will result in an error or misinterpretation.\n",
      "  warnings.warn(\n"
     ]
    },
    {
     "data": {
      "image/png": "[encoded data removed]",
      "text/plain": [
       "<Figure size 432x288 with 1 Axes>"
      ]
     },
     "metadata": {
      "needs_background": "light"
     },
     "output_type": "display_data"
    }
   ],
   "source": [
    "# histogram of date\n",
    "sns.countplot(log_data['date'].dt.date)\n",
    "plt.rcParams[\"figure.figsize\"] = (10,6)\n",
    "plt.rc('font', size=12)\n",
    "plt.xlabel('Date', fontsize = 14)\n",
    "plt.xticks(rotation = 45)\n",
    "plt.ylabel('Count', fontsize = 14)\n",
    "plt.title('Chart of Data Timeline', fontsize = 15)\n",
    "plt.show()"
   ]
  },
  {
   "cell_type": "markdown",
   "metadata": {},
   "source": [
    "The histogram above shows a negative skew as more lower-level data are abundant on the left side of the chart. The data starts to be more complete from 2019-07-31 compared to the data portrayed in the duration of 2019-07-25 to 2019-07-30. We can thus drop the incomplete data."
   ]
  },
  {
   "cell_type": "code",
   "execution_count": 27,
   "metadata": {},
   "outputs": [],
   "source": [
    "# filter out incomplete data\n",
    "filter_log_data = log_data.query('date_time >= \"2019-07-31\"')"
   ]
  },
  {
   "cell_type": "code",
   "execution_count": 28,
   "metadata": {},
   "outputs": [
    {
     "data": {
      "text/html": [
       "<div>\n",
       "<style scoped>\n",
       "    .dataframe tbody tr th:only-of-type {\n",
       "        vertical-align: middle;\n",
       "    }\n",
       "\n",
       "    .dataframe tbody tr th {\n",
       "        vertical-align: top;\n",
       "    }\n",
       "\n",
       "    .dataframe thead th {\n",
       "        text-align: right;\n",
       "    }\n",
       "</style>\n",
       "<table border=\"1\" class=\"dataframe\">\n",
       "  <thead>\n",
       "    <tr style=\"text-align: right;\">\n",
       "      <th></th>\n",
       "      <th>deviceID_hash</th>\n",
       "      <th>event_name</th>\n",
       "    </tr>\n",
       "    <tr>\n",
       "      <th>date</th>\n",
       "      <th></th>\n",
       "      <th></th>\n",
       "    </tr>\n",
       "  </thead>\n",
       "  <tbody>\n",
       "    <tr>\n",
       "      <th>2019-07-31</th>\n",
       "      <td>924</td>\n",
       "      <td>2030</td>\n",
       "    </tr>\n",
       "    <tr>\n",
       "      <th>2019-08-01</th>\n",
       "      <td>3703</td>\n",
       "      <td>36141</td>\n",
       "    </tr>\n",
       "    <tr>\n",
       "      <th>2019-08-02</th>\n",
       "      <td>3647</td>\n",
       "      <td>35554</td>\n",
       "    </tr>\n",
       "    <tr>\n",
       "      <th>2019-08-03</th>\n",
       "      <td>3482</td>\n",
       "      <td>33282</td>\n",
       "    </tr>\n",
       "    <tr>\n",
       "      <th>2019-08-04</th>\n",
       "      <td>3527</td>\n",
       "      <td>32968</td>\n",
       "    </tr>\n",
       "    <tr>\n",
       "      <th>2019-08-05</th>\n",
       "      <td>3802</td>\n",
       "      <td>36058</td>\n",
       "    </tr>\n",
       "    <tr>\n",
       "      <th>2019-08-06</th>\n",
       "      <td>3922</td>\n",
       "      <td>35788</td>\n",
       "    </tr>\n",
       "    <tr>\n",
       "      <th>2019-08-07</th>\n",
       "      <td>3651</td>\n",
       "      <td>31096</td>\n",
       "    </tr>\n",
       "  </tbody>\n",
       "</table>\n",
       "</div>"
      ],
      "text/plain": [
       "            deviceID_hash  event_name\n",
       "date                                 \n",
       "2019-07-31            924        2030\n",
       "2019-08-01           3703       36141\n",
       "2019-08-02           3647       35554\n",
       "2019-08-03           3482       33282\n",
       "2019-08-04           3527       32968\n",
       "2019-08-05           3802       36058\n",
       "2019-08-06           3922       35788\n",
       "2019-08-07           3651       31096"
      ]
     },
     "execution_count": 28,
     "metadata": {},
     "output_type": "execute_result"
    }
   ],
   "source": [
    "# checking count of users and events in filtered data\n",
    "filter_log_data.groupby('date').agg({'deviceID_hash':'nunique','event_name':'count'})"
   ]
  },
  {
   "cell_type": "markdown",
   "metadata": {},
   "source": [
    "From what we see above, we still have ample information on users and events in the filtered data."
   ]
  },
  {
   "cell_type": "code",
   "execution_count": 29,
   "metadata": {},
   "outputs": [
    {
     "data": {
      "text/plain": [
       "expId\n",
       "246    2485\n",
       "247    2517\n",
       "248    2540\n",
       "Name: deviceID_hash, dtype: int64"
      ]
     },
     "execution_count": 29,
     "metadata": {},
     "output_type": "execute_result"
    }
   ],
   "source": [
    "# checking number of unique users in groups\n",
    "filter_log_data.groupby('expId')['deviceID_hash'].nunique()"
   ]
  },
  {
   "cell_type": "markdown",
   "metadata": {},
   "source": [
    "We also see the distribution of users in experimental groups is more than sufficient for our analysis."
   ]
  },
  {
   "cell_type": "markdown",
   "metadata": {},
   "source": [
    "We can now move on to the analysis of total events done by the unique users."
   ]
  },
  {
   "cell_type": "code",
   "execution_count": 30,
   "metadata": {},
   "outputs": [
    {
     "data": {
      "text/html": [
       "<div>\n",
       "<style scoped>\n",
       "    .dataframe tbody tr th:only-of-type {\n",
       "        vertical-align: middle;\n",
       "    }\n",
       "\n",
       "    .dataframe tbody tr th {\n",
       "        vertical-align: top;\n",
       "    }\n",
       "\n",
       "    .dataframe thead th {\n",
       "        text-align: right;\n",
       "    }\n",
       "</style>\n",
       "<table border=\"1\" class=\"dataframe\">\n",
       "  <thead>\n",
       "    <tr style=\"text-align: right;\">\n",
       "      <th></th>\n",
       "      <th>deviceID_hash</th>\n",
       "      <th>event_name</th>\n",
       "    </tr>\n",
       "  </thead>\n",
       "  <tbody>\n",
       "    <tr>\n",
       "      <th>0</th>\n",
       "      <td>6304868067479728361</td>\n",
       "      <td>2307</td>\n",
       "    </tr>\n",
       "    <tr>\n",
       "      <th>1</th>\n",
       "      <td>197027893265565660</td>\n",
       "      <td>1998</td>\n",
       "    </tr>\n",
       "    <tr>\n",
       "      <th>2</th>\n",
       "      <td>4623191541214045580</td>\n",
       "      <td>1768</td>\n",
       "    </tr>\n",
       "    <tr>\n",
       "      <th>3</th>\n",
       "      <td>6932517045703054087</td>\n",
       "      <td>1439</td>\n",
       "    </tr>\n",
       "    <tr>\n",
       "      <th>4</th>\n",
       "      <td>1754140665440434215</td>\n",
       "      <td>1221</td>\n",
       "    </tr>\n",
       "    <tr>\n",
       "      <th>...</th>\n",
       "      <td>...</td>\n",
       "      <td>...</td>\n",
       "    </tr>\n",
       "    <tr>\n",
       "      <th>7537</th>\n",
       "      <td>2275878174127603404</td>\n",
       "      <td>1</td>\n",
       "    </tr>\n",
       "    <tr>\n",
       "      <th>7538</th>\n",
       "      <td>1083512226259476085</td>\n",
       "      <td>1</td>\n",
       "    </tr>\n",
       "    <tr>\n",
       "      <th>7539</th>\n",
       "      <td>5712952270342213514</td>\n",
       "      <td>1</td>\n",
       "    </tr>\n",
       "    <tr>\n",
       "      <th>7540</th>\n",
       "      <td>7524458840116781214</td>\n",
       "      <td>1</td>\n",
       "    </tr>\n",
       "    <tr>\n",
       "      <th>7541</th>\n",
       "      <td>6888746892508752</td>\n",
       "      <td>1</td>\n",
       "    </tr>\n",
       "  </tbody>\n",
       "</table>\n",
       "<p>7542 rows × 2 columns</p>\n",
       "</div>"
      ],
      "text/plain": [
       "            deviceID_hash  event_name\n",
       "0     6304868067479728361        2307\n",
       "1      197027893265565660        1998\n",
       "2     4623191541214045580        1768\n",
       "3     6932517045703054087        1439\n",
       "4     1754140665440434215        1221\n",
       "...                   ...         ...\n",
       "7537  2275878174127603404           1\n",
       "7538  1083512226259476085           1\n",
       "7539  5712952270342213514           1\n",
       "7540  7524458840116781214           1\n",
       "7541     6888746892508752           1\n",
       "\n",
       "[7542 rows x 2 columns]"
      ]
     },
     "execution_count": 30,
     "metadata": {},
     "output_type": "execute_result"
    }
   ],
   "source": [
    "# number of events per user\n",
    "filter_log_data.groupby(['deviceID_hash'])['event_name'].count().sort_values(ascending = False).reset_index()"
   ]
  },
  {
   "cell_type": "markdown",
   "metadata": {},
   "source": [
    "The largest number of events done by a single user is 2307. All users perform at least one event."
   ]
  },
  {
   "cell_type": "code",
   "execution_count": 31,
   "metadata": {},
   "outputs": [
    {
     "name": "stdout",
     "output_type": "stream",
     "text": [
      "Number of logs filtered out is  796  out of  243713  logs.\n",
      "Share of logs fitered out:  0.326613680845913\n"
     ]
    }
   ],
   "source": [
    "print('Number of logs filtered out is ', len(log_data) - len(filter_log_data),' out of ', len(log_data), ' logs.')\n",
    "print('Share of logs fitered out: ', (len(log_data) - len(filter_log_data))/len(log_data) * 100)"
   ]
  },
  {
   "cell_type": "markdown",
   "metadata": {},
   "source": [
    "Only 796 logs were filtered out of the data amounting to only 0.32% of the original dataset."
   ]
  },
  {
   "cell_type": "code",
   "execution_count": 32,
   "metadata": {},
   "outputs": [
    {
     "name": "stdout",
     "output_type": "stream",
     "text": [
      "Number of users filtered out is  9  out of  7551  users.\n",
      "Share of users filtered out:  0.11918951132300357\n"
     ]
    }
   ],
   "source": [
    "print('Number of users filtered out is ', log_data['deviceID_hash'].nunique() - filter_log_data['deviceID_hash'].nunique(), ' out of ', log_data['deviceID_hash'].nunique(), ' users.')\n",
    "print('Share of users filtered out: ', ((log_data['deviceID_hash'].nunique()) - (filter_log_data['deviceID_hash'].nunique())) / log_data['deviceID_hash'].nunique() * 100)\n"
   ]
  },
  {
   "cell_type": "markdown",
   "metadata": {},
   "source": [
    "And per the above output, only 9 users were filtered out of the data amounting to only about 0.12% of the original dataset."
   ]
  },
  {
   "cell_type": "markdown",
   "metadata": {},
   "source": [
    "### Study the Event Funnel"
   ]
  },
  {
   "cell_type": "code",
   "execution_count": 33,
   "metadata": {},
   "outputs": [
    {
     "data": {
      "text/plain": [
       "MainScreenAppear           118578\n",
       "OffersScreenAppear          46707\n",
       "CartScreenAppear            42560\n",
       "PaymentScreenSuccessful     34058\n",
       "Tutorial                     1014\n",
       "Name: event_name, dtype: int64"
      ]
     },
     "execution_count": 33,
     "metadata": {},
     "output_type": "execute_result"
    }
   ],
   "source": [
    "# events in order of frequency\n",
    "filter_log_data['event_name'].value_counts()"
   ]
  },
  {
   "cell_type": "code",
   "execution_count": 34,
   "metadata": {},
   "outputs": [
    {
     "data": {
      "image/png": "[encoded data removed]",
      "text/plain": [
       "<Figure size 864x432 with 1 Axes>"
      ]
     },
     "metadata": {
      "needs_background": "light"
     },
     "output_type": "display_data"
    }
   ],
   "source": [
    "# graph of events by frequency\n",
    "filter_log_data['event_name'].value_counts().plot(kind = 'bar')\n",
    "plt.xlabel('Events', fontsize = 14)\n",
    "plt.xticks(rotation = 45)\n",
    "plt.ylabel('Frequency', fontsize = 14)\n",
    "plt.title('Graph of Events by Frequency', fontsize = 15)\n",
    "plt.show()"
   ]
  },
  {
   "cell_type": "markdown",
   "metadata": {},
   "source": [
    "The event \"MainScreenAppear\" is understandably the most frequent event as this is the first page or screen visitors access on the app."
   ]
  },
  {
   "cell_type": "code",
   "execution_count": 35,
   "metadata": {},
   "outputs": [
    {
     "data": {
      "text/plain": [
       "event_name\n",
       "MainScreenAppear           7429\n",
       "OffersScreenAppear         4606\n",
       "CartScreenAppear           3742\n",
       "PaymentScreenSuccessful    3542\n",
       "Tutorial                    845\n",
       "Name: deviceID_hash, dtype: int64"
      ]
     },
     "execution_count": 35,
     "metadata": {},
     "output_type": "execute_result"
    }
   ],
   "source": [
    "# number of unique users that perform each event\n",
    "filter_log_data.groupby('event_name')['deviceID_hash'].nunique().sort_values(ascending = False)"
   ]
  },
  {
   "cell_type": "markdown",
   "metadata": {},
   "source": [
    "The order of events are the same as shown previously."
   ]
  },
  {
   "cell_type": "code",
   "execution_count": 36,
   "metadata": {},
   "outputs": [
    {
     "data": {
      "text/html": [
       "<div>\n",
       "<style scoped>\n",
       "    .dataframe tbody tr th:only-of-type {\n",
       "        vertical-align: middle;\n",
       "    }\n",
       "\n",
       "    .dataframe tbody tr th {\n",
       "        vertical-align: top;\n",
       "    }\n",
       "\n",
       "    .dataframe thead th {\n",
       "        text-align: right;\n",
       "    }\n",
       "</style>\n",
       "<table border=\"1\" class=\"dataframe\">\n",
       "  <thead>\n",
       "    <tr style=\"text-align: right;\">\n",
       "      <th></th>\n",
       "      <th>event_name</th>\n",
       "      <th>deviceID_hash</th>\n",
       "      <th>user_share</th>\n",
       "    </tr>\n",
       "  </thead>\n",
       "  <tbody>\n",
       "    <tr>\n",
       "      <th>0</th>\n",
       "      <td>MainScreenAppear</td>\n",
       "      <td>7429</td>\n",
       "      <td>98.501724</td>\n",
       "    </tr>\n",
       "    <tr>\n",
       "      <th>1</th>\n",
       "      <td>OffersScreenAppear</td>\n",
       "      <td>4606</td>\n",
       "      <td>61.071334</td>\n",
       "    </tr>\n",
       "    <tr>\n",
       "      <th>2</th>\n",
       "      <td>CartScreenAppear</td>\n",
       "      <td>3742</td>\n",
       "      <td>49.615487</td>\n",
       "    </tr>\n",
       "    <tr>\n",
       "      <th>3</th>\n",
       "      <td>PaymentScreenSuccessful</td>\n",
       "      <td>3542</td>\n",
       "      <td>46.963670</td>\n",
       "    </tr>\n",
       "    <tr>\n",
       "      <th>4</th>\n",
       "      <td>Tutorial</td>\n",
       "      <td>845</td>\n",
       "      <td>11.203925</td>\n",
       "    </tr>\n",
       "  </tbody>\n",
       "</table>\n",
       "</div>"
      ],
      "text/plain": [
       "                event_name  deviceID_hash  user_share\n",
       "0         MainScreenAppear           7429   98.501724\n",
       "1       OffersScreenAppear           4606   61.071334\n",
       "2         CartScreenAppear           3742   49.615487\n",
       "3  PaymentScreenSuccessful           3542   46.963670\n",
       "4                 Tutorial            845   11.203925"
      ]
     },
     "execution_count": 36,
     "metadata": {},
     "output_type": "execute_result"
    }
   ],
   "source": [
    "# share of users who perform each event\n",
    "event_pct = filter_log_data.groupby('event_name')['deviceID_hash'].nunique().sort_values(ascending = False).reset_index()\n",
    "event_pct['user_share'] = event_pct['deviceID_hash']/filter_log_data['deviceID_hash'].nunique() *100\n",
    "event_pct"
   ]
  },
  {
   "cell_type": "markdown",
   "metadata": {},
   "source": [
    "Over 98% users encountered the Main screen compared with the Tutorial which only about 11% of the users partook in. This could be due to the use of a skip function which directly navigates the user from the Tutorial screen to the Main screen."
   ]
  },
  {
   "cell_type": "markdown",
   "metadata": {},
   "source": [
    "Now, we need to analyze the events performed by each unique user, those who performed at least 1 event and those who performed all the events."
   ]
  },
  {
   "cell_type": "code",
   "execution_count": 37,
   "metadata": {},
   "outputs": [
    {
     "data": {
      "text/html": [
       "<div>\n",
       "<style scoped>\n",
       "    .dataframe tbody tr th:only-of-type {\n",
       "        vertical-align: middle;\n",
       "    }\n",
       "\n",
       "    .dataframe tbody tr th {\n",
       "        vertical-align: top;\n",
       "    }\n",
       "\n",
       "    .dataframe thead tr th {\n",
       "        text-align: left;\n",
       "    }\n",
       "\n",
       "    .dataframe thead tr:last-of-type th {\n",
       "        text-align: right;\n",
       "    }\n",
       "</style>\n",
       "<table border=\"1\" class=\"dataframe\">\n",
       "  <thead>\n",
       "    <tr>\n",
       "      <th></th>\n",
       "      <th colspan=\"2\" halign=\"left\">event_name</th>\n",
       "    </tr>\n",
       "    <tr>\n",
       "      <th></th>\n",
       "      <th>unique</th>\n",
       "      <th>count</th>\n",
       "    </tr>\n",
       "    <tr>\n",
       "      <th>deviceID_hash</th>\n",
       "      <th></th>\n",
       "      <th></th>\n",
       "    </tr>\n",
       "  </thead>\n",
       "  <tbody>\n",
       "    <tr>\n",
       "      <th>6888746892508752</th>\n",
       "      <td>[MainScreenAppear]</td>\n",
       "      <td>1</td>\n",
       "    </tr>\n",
       "    <tr>\n",
       "      <th>6909561520679493</th>\n",
       "      <td>[MainScreenAppear, PaymentScreenSuccessful, Ca...</td>\n",
       "      <td>5</td>\n",
       "    </tr>\n",
       "    <tr>\n",
       "      <th>6922444491712477</th>\n",
       "      <td>[MainScreenAppear, PaymentScreenSuccessful, Ca...</td>\n",
       "      <td>47</td>\n",
       "    </tr>\n",
       "    <tr>\n",
       "      <th>7435777799948366</th>\n",
       "      <td>[MainScreenAppear]</td>\n",
       "      <td>6</td>\n",
       "    </tr>\n",
       "    <tr>\n",
       "      <th>7702139951469979</th>\n",
       "      <td>[MainScreenAppear, OffersScreenAppear, CartScr...</td>\n",
       "      <td>137</td>\n",
       "    </tr>\n",
       "    <tr>\n",
       "      <th>...</th>\n",
       "      <td>...</td>\n",
       "      <td>...</td>\n",
       "    </tr>\n",
       "    <tr>\n",
       "      <th>9217594193087726423</th>\n",
       "      <td>[PaymentScreenSuccessful, CartScreenAppear, Of...</td>\n",
       "      <td>9</td>\n",
       "    </tr>\n",
       "    <tr>\n",
       "      <th>9219463515465815368</th>\n",
       "      <td>[MainScreenAppear, OffersScreenAppear, CartScr...</td>\n",
       "      <td>17</td>\n",
       "    </tr>\n",
       "    <tr>\n",
       "      <th>9220879493065341500</th>\n",
       "      <td>[MainScreenAppear, OffersScreenAppear, CartScr...</td>\n",
       "      <td>6</td>\n",
       "    </tr>\n",
       "    <tr>\n",
       "      <th>9221926045299980007</th>\n",
       "      <td>[MainScreenAppear]</td>\n",
       "      <td>7</td>\n",
       "    </tr>\n",
       "    <tr>\n",
       "      <th>9222603179720523844</th>\n",
       "      <td>[MainScreenAppear]</td>\n",
       "      <td>59</td>\n",
       "    </tr>\n",
       "  </tbody>\n",
       "</table>\n",
       "<p>7542 rows × 2 columns</p>\n",
       "</div>"
      ],
      "text/plain": [
       "                                                            event_name      \n",
       "                                                                unique count\n",
       "deviceID_hash                                                               \n",
       "6888746892508752                                    [MainScreenAppear]     1\n",
       "6909561520679493     [MainScreenAppear, PaymentScreenSuccessful, Ca...     5\n",
       "6922444491712477     [MainScreenAppear, PaymentScreenSuccessful, Ca...    47\n",
       "7435777799948366                                    [MainScreenAppear]     6\n",
       "7702139951469979     [MainScreenAppear, OffersScreenAppear, CartScr...   137\n",
       "...                                                                ...   ...\n",
       "9217594193087726423  [PaymentScreenSuccessful, CartScreenAppear, Of...     9\n",
       "9219463515465815368  [MainScreenAppear, OffersScreenAppear, CartScr...    17\n",
       "9220879493065341500  [MainScreenAppear, OffersScreenAppear, CartScr...     6\n",
       "9221926045299980007                                 [MainScreenAppear]     7\n",
       "9222603179720523844                                 [MainScreenAppear]    59\n",
       "\n",
       "[7542 rows x 2 columns]"
      ]
     },
     "execution_count": 37,
     "metadata": {},
     "output_type": "execute_result"
    }
   ],
   "source": [
    "# unique users who performed at least 1 event\n",
    "filter_log_data.groupby(['deviceID_hash']).agg({'event_name':['unique','count']})"
   ]
  },
  {
   "cell_type": "markdown",
   "metadata": {},
   "source": [
    "The above shows unique users, unique events they performed as well as total event count."
   ]
  },
  {
   "cell_type": "code",
   "execution_count": 38,
   "metadata": {},
   "outputs": [
    {
     "data": {
      "text/html": [
       "<div>\n",
       "<style scoped>\n",
       "    .dataframe tbody tr th:only-of-type {\n",
       "        vertical-align: middle;\n",
       "    }\n",
       "\n",
       "    .dataframe tbody tr th {\n",
       "        vertical-align: top;\n",
       "    }\n",
       "\n",
       "    .dataframe thead th {\n",
       "        text-align: right;\n",
       "    }\n",
       "</style>\n",
       "<table border=\"1\" class=\"dataframe\">\n",
       "  <thead>\n",
       "    <tr style=\"text-align: right;\">\n",
       "      <th></th>\n",
       "      <th>userID</th>\n",
       "      <th>event_name</th>\n",
       "      <th>count</th>\n",
       "    </tr>\n",
       "  </thead>\n",
       "  <tbody>\n",
       "    <tr>\n",
       "      <th>7</th>\n",
       "      <td>9841258664663090</td>\n",
       "      <td>[Tutorial, MainScreenAppear, OffersScreenAppear, CartScreenAppear, PaymentScreenSuccessful]</td>\n",
       "      <td>29</td>\n",
       "    </tr>\n",
       "    <tr>\n",
       "      <th>18</th>\n",
       "      <td>29094035245869447</td>\n",
       "      <td>[Tutorial, MainScreenAppear, OffersScreenAppear, CartScreenAppear, PaymentScreenSuccessful]</td>\n",
       "      <td>24</td>\n",
       "    </tr>\n",
       "    <tr>\n",
       "      <th>57</th>\n",
       "      <td>77364241990273403</td>\n",
       "      <td>[Tutorial, MainScreenAppear, OffersScreenAppear, PaymentScreenSuccessful, CartScreenAppear]</td>\n",
       "      <td>98</td>\n",
       "    </tr>\n",
       "    <tr>\n",
       "      <th>63</th>\n",
       "      <td>84107839139059565</td>\n",
       "      <td>[Tutorial, MainScreenAppear, OffersScreenAppear, CartScreenAppear, PaymentScreenSuccessful]</td>\n",
       "      <td>52</td>\n",
       "    </tr>\n",
       "    <tr>\n",
       "      <th>66</th>\n",
       "      <td>89078601045475920</td>\n",
       "      <td>[Tutorial, MainScreenAppear, OffersScreenAppear, PaymentScreenSuccessful, CartScreenAppear]</td>\n",
       "      <td>33</td>\n",
       "    </tr>\n",
       "    <tr>\n",
       "      <th>...</th>\n",
       "      <td>...</td>\n",
       "      <td>...</td>\n",
       "      <td>...</td>\n",
       "    </tr>\n",
       "    <tr>\n",
       "      <th>7459</th>\n",
       "      <td>9126019227179029392</td>\n",
       "      <td>[Tutorial, MainScreenAppear, OffersScreenAppear, CartScreenAppear, PaymentScreenSuccessful]</td>\n",
       "      <td>31</td>\n",
       "    </tr>\n",
       "    <tr>\n",
       "      <th>7468</th>\n",
       "      <td>9132678164084161445</td>\n",
       "      <td>[Tutorial, MainScreenAppear, OffersScreenAppear, PaymentScreenSuccessful, CartScreenAppear]</td>\n",
       "      <td>21</td>\n",
       "    </tr>\n",
       "    <tr>\n",
       "      <th>7473</th>\n",
       "      <td>9141951425188555065</td>\n",
       "      <td>[Tutorial, MainScreenAppear, CartScreenAppear, OffersScreenAppear, PaymentScreenSuccessful]</td>\n",
       "      <td>29</td>\n",
       "    </tr>\n",
       "    <tr>\n",
       "      <th>7488</th>\n",
       "      <td>9158074215019937335</td>\n",
       "      <td>[Tutorial, MainScreenAppear, OffersScreenAppear, CartScreenAppear, PaymentScreenSuccessful]</td>\n",
       "      <td>14</td>\n",
       "    </tr>\n",
       "    <tr>\n",
       "      <th>7505</th>\n",
       "      <td>9178917234910208523</td>\n",
       "      <td>[Tutorial, MainScreenAppear, OffersScreenAppear, CartScreenAppear, PaymentScreenSuccessful]</td>\n",
       "      <td>54</td>\n",
       "    </tr>\n",
       "  </tbody>\n",
       "</table>\n",
       "<p>470 rows × 3 columns</p>\n",
       "</div>"
      ],
      "text/plain": [
       "                   userID  \\\n",
       "7        9841258664663090   \n",
       "18      29094035245869447   \n",
       "57      77364241990273403   \n",
       "63      84107839139059565   \n",
       "66      89078601045475920   \n",
       "...                   ...   \n",
       "7459  9126019227179029392   \n",
       "7468  9132678164084161445   \n",
       "7473  9141951425188555065   \n",
       "7488  9158074215019937335   \n",
       "7505  9178917234910208523   \n",
       "\n",
       "                                                                                       event_name  \\\n",
       "7     [Tutorial, MainScreenAppear, OffersScreenAppear, CartScreenAppear, PaymentScreenSuccessful]   \n",
       "18    [Tutorial, MainScreenAppear, OffersScreenAppear, CartScreenAppear, PaymentScreenSuccessful]   \n",
       "57    [Tutorial, MainScreenAppear, OffersScreenAppear, PaymentScreenSuccessful, CartScreenAppear]   \n",
       "63    [Tutorial, MainScreenAppear, OffersScreenAppear, CartScreenAppear, PaymentScreenSuccessful]   \n",
       "66    [Tutorial, MainScreenAppear, OffersScreenAppear, PaymentScreenSuccessful, CartScreenAppear]   \n",
       "...                                                                                           ...   \n",
       "7459  [Tutorial, MainScreenAppear, OffersScreenAppear, CartScreenAppear, PaymentScreenSuccessful]   \n",
       "7468  [Tutorial, MainScreenAppear, OffersScreenAppear, PaymentScreenSuccessful, CartScreenAppear]   \n",
       "7473  [Tutorial, MainScreenAppear, CartScreenAppear, OffersScreenAppear, PaymentScreenSuccessful]   \n",
       "7488  [Tutorial, MainScreenAppear, OffersScreenAppear, CartScreenAppear, PaymentScreenSuccessful]   \n",
       "7505  [Tutorial, MainScreenAppear, OffersScreenAppear, CartScreenAppear, PaymentScreenSuccessful]   \n",
       "\n",
       "      count  \n",
       "7        29  \n",
       "18       24  \n",
       "57       98  \n",
       "63       52  \n",
       "66       33  \n",
       "...     ...  \n",
       "7459     31  \n",
       "7468     21  \n",
       "7473     29  \n",
       "7488     14  \n",
       "7505     54  \n",
       "\n",
       "[470 rows x 3 columns]"
      ]
     },
     "execution_count": 38,
     "metadata": {},
     "output_type": "execute_result"
    }
   ],
   "source": [
    "# pivot table of users who perform all events at least once\n",
    "pd.options.display.max_colwidth = 210\n",
    "test = filter_log_data.groupby(['deviceID_hash']).agg({'event_name':['unique','count']}).reset_index()\n",
    "test.columns = ['userID','event_name','count']\n",
    "test[test['event_name'].map(len) == 5]"
   ]
  },
  {
   "cell_type": "markdown",
   "metadata": {},
   "source": [
    "The table above shows unique users who perform every event as well as their cumulative event count."
   ]
  },
  {
   "cell_type": "code",
   "execution_count": 39,
   "metadata": {},
   "outputs": [
    {
     "data": {
      "text/html": [
       "<div>\n",
       "<style scoped>\n",
       "    .dataframe tbody tr th:only-of-type {\n",
       "        vertical-align: middle;\n",
       "    }\n",
       "\n",
       "    .dataframe tbody tr th {\n",
       "        vertical-align: top;\n",
       "    }\n",
       "\n",
       "    .dataframe thead th {\n",
       "        text-align: right;\n",
       "    }\n",
       "</style>\n",
       "<table border=\"1\" class=\"dataframe\">\n",
       "  <thead>\n",
       "    <tr style=\"text-align: right;\">\n",
       "      <th>event_name</th>\n",
       "      <th>CartScreenAppear</th>\n",
       "      <th>MainScreenAppear</th>\n",
       "      <th>OffersScreenAppear</th>\n",
       "      <th>PaymentScreenSuccessful</th>\n",
       "      <th>Tutorial</th>\n",
       "      <th>All</th>\n",
       "    </tr>\n",
       "    <tr>\n",
       "      <th>deviceID_hash</th>\n",
       "      <th></th>\n",
       "      <th></th>\n",
       "      <th></th>\n",
       "      <th></th>\n",
       "      <th></th>\n",
       "      <th></th>\n",
       "    </tr>\n",
       "  </thead>\n",
       "  <tbody>\n",
       "    <tr>\n",
       "      <th>9841258664663090</th>\n",
       "      <td>8.0</td>\n",
       "      <td>10.0</td>\n",
       "      <td>8.0</td>\n",
       "      <td>2.0</td>\n",
       "      <td>1.0</td>\n",
       "      <td>29</td>\n",
       "    </tr>\n",
       "    <tr>\n",
       "      <th>29094035245869447</th>\n",
       "      <td>2.0</td>\n",
       "      <td>10.0</td>\n",
       "      <td>10.0</td>\n",
       "      <td>1.0</td>\n",
       "      <td>1.0</td>\n",
       "      <td>24</td>\n",
       "    </tr>\n",
       "    <tr>\n",
       "      <th>77364241990273403</th>\n",
       "      <td>7.0</td>\n",
       "      <td>68.0</td>\n",
       "      <td>17.0</td>\n",
       "      <td>5.0</td>\n",
       "      <td>1.0</td>\n",
       "      <td>98</td>\n",
       "    </tr>\n",
       "    <tr>\n",
       "      <th>84107839139059565</th>\n",
       "      <td>7.0</td>\n",
       "      <td>17.0</td>\n",
       "      <td>20.0</td>\n",
       "      <td>6.0</td>\n",
       "      <td>2.0</td>\n",
       "      <td>52</td>\n",
       "    </tr>\n",
       "    <tr>\n",
       "      <th>89078601045475920</th>\n",
       "      <td>9.0</td>\n",
       "      <td>9.0</td>\n",
       "      <td>10.0</td>\n",
       "      <td>4.0</td>\n",
       "      <td>1.0</td>\n",
       "      <td>33</td>\n",
       "    </tr>\n",
       "    <tr>\n",
       "      <th>...</th>\n",
       "      <td>...</td>\n",
       "      <td>...</td>\n",
       "      <td>...</td>\n",
       "      <td>...</td>\n",
       "      <td>...</td>\n",
       "      <td>...</td>\n",
       "    </tr>\n",
       "    <tr>\n",
       "      <th>9132678164084161445</th>\n",
       "      <td>2.0</td>\n",
       "      <td>14.0</td>\n",
       "      <td>2.0</td>\n",
       "      <td>2.0</td>\n",
       "      <td>1.0</td>\n",
       "      <td>21</td>\n",
       "    </tr>\n",
       "    <tr>\n",
       "      <th>9141951425188555065</th>\n",
       "      <td>5.0</td>\n",
       "      <td>7.0</td>\n",
       "      <td>12.0</td>\n",
       "      <td>4.0</td>\n",
       "      <td>1.0</td>\n",
       "      <td>29</td>\n",
       "    </tr>\n",
       "    <tr>\n",
       "      <th>9158074215019937335</th>\n",
       "      <td>1.0</td>\n",
       "      <td>3.0</td>\n",
       "      <td>8.0</td>\n",
       "      <td>1.0</td>\n",
       "      <td>1.0</td>\n",
       "      <td>14</td>\n",
       "    </tr>\n",
       "    <tr>\n",
       "      <th>9178917234910208523</th>\n",
       "      <td>4.0</td>\n",
       "      <td>19.0</td>\n",
       "      <td>26.0</td>\n",
       "      <td>4.0</td>\n",
       "      <td>1.0</td>\n",
       "      <td>54</td>\n",
       "    </tr>\n",
       "    <tr>\n",
       "      <th>All</th>\n",
       "      <td>42560.0</td>\n",
       "      <td>118578.0</td>\n",
       "      <td>46707.0</td>\n",
       "      <td>34058.0</td>\n",
       "      <td>1014.0</td>\n",
       "      <td>242917</td>\n",
       "    </tr>\n",
       "  </tbody>\n",
       "</table>\n",
       "<p>471 rows × 6 columns</p>\n",
       "</div>"
      ],
      "text/plain": [
       "event_name           CartScreenAppear  MainScreenAppear  OffersScreenAppear  \\\n",
       "deviceID_hash                                                                 \n",
       "9841258664663090                  8.0              10.0                 8.0   \n",
       "29094035245869447                 2.0              10.0                10.0   \n",
       "77364241990273403                 7.0              68.0                17.0   \n",
       "84107839139059565                 7.0              17.0                20.0   \n",
       "89078601045475920                 9.0               9.0                10.0   \n",
       "...                               ...               ...                 ...   \n",
       "9132678164084161445               2.0              14.0                 2.0   \n",
       "9141951425188555065               5.0               7.0                12.0   \n",
       "9158074215019937335               1.0               3.0                 8.0   \n",
       "9178917234910208523               4.0              19.0                26.0   \n",
       "All                           42560.0          118578.0             46707.0   \n",
       "\n",
       "event_name           PaymentScreenSuccessful  Tutorial     All  \n",
       "deviceID_hash                                                   \n",
       "9841258664663090                         2.0       1.0      29  \n",
       "29094035245869447                        1.0       1.0      24  \n",
       "77364241990273403                        5.0       1.0      98  \n",
       "84107839139059565                        6.0       2.0      52  \n",
       "89078601045475920                        4.0       1.0      33  \n",
       "...                                      ...       ...     ...  \n",
       "9132678164084161445                      2.0       1.0      21  \n",
       "9141951425188555065                      4.0       1.0      29  \n",
       "9158074215019937335                      1.0       1.0      14  \n",
       "9178917234910208523                      4.0       1.0      54  \n",
       "All                                  34058.0    1014.0  242917  \n",
       "\n",
       "[471 rows x 6 columns]"
      ]
     },
     "execution_count": 39,
     "metadata": {},
     "output_type": "execute_result"
    }
   ],
   "source": [
    "# pivot table showing event counts per user\n",
    "filter_log_data.pivot_table(index = 'deviceID_hash', columns = 'event_name', values = 'date', aggfunc = 'count', margins = True).dropna()"
   ]
  },
  {
   "cell_type": "markdown",
   "metadata": {},
   "source": [
    "The table above shows the distribution of events performed per unique user."
   ]
  },
  {
   "cell_type": "code",
   "execution_count": 40,
   "metadata": {},
   "outputs": [
    {
     "data": {
      "text/html": [
       "<div>\n",
       "<style scoped>\n",
       "    .dataframe tbody tr th:only-of-type {\n",
       "        vertical-align: middle;\n",
       "    }\n",
       "\n",
       "    .dataframe tbody tr th {\n",
       "        vertical-align: top;\n",
       "    }\n",
       "\n",
       "    .dataframe thead th {\n",
       "        text-align: right;\n",
       "    }\n",
       "</style>\n",
       "<table border=\"1\" class=\"dataframe\">\n",
       "  <thead>\n",
       "    <tr style=\"text-align: right;\">\n",
       "      <th>event_name</th>\n",
       "      <th>All</th>\n",
       "      <th>MainScreenAppear</th>\n",
       "      <th>OffersScreenAppear</th>\n",
       "      <th>CartScreenAppear</th>\n",
       "      <th>PaymentScreenSuccessful</th>\n",
       "      <th>Tutorial</th>\n",
       "    </tr>\n",
       "    <tr>\n",
       "      <th>date</th>\n",
       "      <th></th>\n",
       "      <th></th>\n",
       "      <th></th>\n",
       "      <th></th>\n",
       "      <th></th>\n",
       "      <th></th>\n",
       "    </tr>\n",
       "  </thead>\n",
       "  <tbody>\n",
       "    <tr>\n",
       "      <th>2019-07-31 00:00:00</th>\n",
       "      <td>924</td>\n",
       "      <td>649</td>\n",
       "      <td>238</td>\n",
       "      <td>193</td>\n",
       "      <td>118</td>\n",
       "      <td>8</td>\n",
       "    </tr>\n",
       "    <tr>\n",
       "      <th>2019-08-01 00:00:00</th>\n",
       "      <td>3703</td>\n",
       "      <td>3545</td>\n",
       "      <td>2050</td>\n",
       "      <td>1510</td>\n",
       "      <td>1372</td>\n",
       "      <td>155</td>\n",
       "    </tr>\n",
       "    <tr>\n",
       "      <th>2019-08-02 00:00:00</th>\n",
       "      <td>3647</td>\n",
       "      <td>3485</td>\n",
       "      <td>2070</td>\n",
       "      <td>1525</td>\n",
       "      <td>1394</td>\n",
       "      <td>145</td>\n",
       "    </tr>\n",
       "    <tr>\n",
       "      <th>2019-08-03 00:00:00</th>\n",
       "      <td>3482</td>\n",
       "      <td>3301</td>\n",
       "      <td>2072</td>\n",
       "      <td>1505</td>\n",
       "      <td>1413</td>\n",
       "      <td>143</td>\n",
       "    </tr>\n",
       "    <tr>\n",
       "      <th>2019-08-04 00:00:00</th>\n",
       "      <td>3527</td>\n",
       "      <td>3354</td>\n",
       "      <td>2085</td>\n",
       "      <td>1517</td>\n",
       "      <td>1424</td>\n",
       "      <td>130</td>\n",
       "    </tr>\n",
       "    <tr>\n",
       "      <th>2019-08-05 00:00:00</th>\n",
       "      <td>3802</td>\n",
       "      <td>3608</td>\n",
       "      <td>2151</td>\n",
       "      <td>1547</td>\n",
       "      <td>1447</td>\n",
       "      <td>99</td>\n",
       "    </tr>\n",
       "    <tr>\n",
       "      <th>2019-08-06 00:00:00</th>\n",
       "      <td>3922</td>\n",
       "      <td>3766</td>\n",
       "      <td>2167</td>\n",
       "      <td>1528</td>\n",
       "      <td>1454</td>\n",
       "      <td>118</td>\n",
       "    </tr>\n",
       "    <tr>\n",
       "      <th>2019-08-07 00:00:00</th>\n",
       "      <td>3651</td>\n",
       "      <td>3482</td>\n",
       "      <td>2062</td>\n",
       "      <td>1434</td>\n",
       "      <td>1361</td>\n",
       "      <td>69</td>\n",
       "    </tr>\n",
       "    <tr>\n",
       "      <th>All</th>\n",
       "      <td>7542</td>\n",
       "      <td>7429</td>\n",
       "      <td>4606</td>\n",
       "      <td>3742</td>\n",
       "      <td>3542</td>\n",
       "      <td>845</td>\n",
       "    </tr>\n",
       "  </tbody>\n",
       "</table>\n",
       "</div>"
      ],
      "text/plain": [
       "event_name            All  MainScreenAppear  OffersScreenAppear  \\\n",
       "date                                                              \n",
       "2019-07-31 00:00:00   924               649                 238   \n",
       "2019-08-01 00:00:00  3703              3545                2050   \n",
       "2019-08-02 00:00:00  3647              3485                2070   \n",
       "2019-08-03 00:00:00  3482              3301                2072   \n",
       "2019-08-04 00:00:00  3527              3354                2085   \n",
       "2019-08-05 00:00:00  3802              3608                2151   \n",
       "2019-08-06 00:00:00  3922              3766                2167   \n",
       "2019-08-07 00:00:00  3651              3482                2062   \n",
       "All                  7542              7429                4606   \n",
       "\n",
       "event_name           CartScreenAppear  PaymentScreenSuccessful  Tutorial  \n",
       "date                                                                      \n",
       "2019-07-31 00:00:00               193                      118         8  \n",
       "2019-08-01 00:00:00              1510                     1372       155  \n",
       "2019-08-02 00:00:00              1525                     1394       145  \n",
       "2019-08-03 00:00:00              1505                     1413       143  \n",
       "2019-08-04 00:00:00              1517                     1424       130  \n",
       "2019-08-05 00:00:00              1547                     1447        99  \n",
       "2019-08-06 00:00:00              1528                     1454       118  \n",
       "2019-08-07 00:00:00              1434                     1361        69  \n",
       "All                              3742                     3542       845  "
      ]
     },
     "execution_count": 40,
     "metadata": {},
     "output_type": "execute_result"
    }
   ],
   "source": [
    "# pivot table showing total events done by users per day\n",
    "filter_log_data.pivot_table(index = 'date', columns = 'event_name', values = 'deviceID_hash', aggfunc = 'nunique', margins = True).sort_values(by = 'All', axis = 1, ascending = False)\n"
   ]
  },
  {
   "cell_type": "markdown",
   "metadata": {},
   "source": [
    "The table above shows count of unique users who performed each event per date."
   ]
  },
  {
   "cell_type": "code",
   "execution_count": 41,
   "metadata": {},
   "outputs": [
    {
     "data": {
      "image/png": "[encoded data removed]",
      "text/plain": [
       "<Figure size 864x576 with 1 Axes>"
      ]
     },
     "metadata": {
      "needs_background": "light"
     },
     "output_type": "display_data"
    }
   ],
   "source": [
    "# graph showing sequence/frequency of events done by users daily\n",
    "filter_log_data.pivot_table(index = 'date', columns = 'event_name', values = 'deviceID_hash', aggfunc = 'nunique').plot(figsize = (12,8), grid = True)\n",
    "plt.xlabel('Date', fontsize = 14)\n",
    "#plt.xticks(rotation = 45)\n",
    "plt.ylabel('User Count', fontsize = 14)\n",
    "plt.title('Graph of Event Timeline per Date and Time', fontsize = 15)\n",
    "plt.show()"
   ]
  },
  {
   "cell_type": "markdown",
   "metadata": {},
   "source": [
    "The graph above shows large distinctions among the frequency of events performed by users daily. Tutorial is the lowest on the spectrum while Main Screen Appear is the highest. We can see a sharp incline on the graph from July 31 to August 1 2019. From that point, the graph progresses on a steady line though the difference in user count among the events still remain."
   ]
  },
  {
   "cell_type": "markdown",
   "metadata": {},
   "source": [
    "Moving on to the event funnel analysis."
   ]
  },
  {
   "cell_type": "code",
   "execution_count": 42,
   "metadata": {},
   "outputs": [
    {
     "data": {
      "text/html": [
       "<div>\n",
       "<style scoped>\n",
       "    .dataframe tbody tr th:only-of-type {\n",
       "        vertical-align: middle;\n",
       "    }\n",
       "\n",
       "    .dataframe tbody tr th {\n",
       "        vertical-align: top;\n",
       "    }\n",
       "\n",
       "    .dataframe thead th {\n",
       "        text-align: right;\n",
       "    }\n",
       "</style>\n",
       "<table border=\"1\" class=\"dataframe\">\n",
       "  <thead>\n",
       "    <tr style=\"text-align: right;\">\n",
       "      <th>event_name</th>\n",
       "      <th>CartScreenAppear</th>\n",
       "      <th>MainScreenAppear</th>\n",
       "      <th>OffersScreenAppear</th>\n",
       "      <th>PaymentScreenSuccessful</th>\n",
       "      <th>Tutorial</th>\n",
       "    </tr>\n",
       "    <tr>\n",
       "      <th>deviceID_hash</th>\n",
       "      <th></th>\n",
       "      <th></th>\n",
       "      <th></th>\n",
       "      <th></th>\n",
       "      <th></th>\n",
       "    </tr>\n",
       "  </thead>\n",
       "  <tbody>\n",
       "    <tr>\n",
       "      <th>6888746892508752</th>\n",
       "      <td>NaT</td>\n",
       "      <td>2019-08-06 14:06:34</td>\n",
       "      <td>NaT</td>\n",
       "      <td>NaT</td>\n",
       "      <td>NaT</td>\n",
       "    </tr>\n",
       "    <tr>\n",
       "      <th>6909561520679493</th>\n",
       "      <td>2019-08-06 18:52:58</td>\n",
       "      <td>2019-08-06 18:52:54</td>\n",
       "      <td>2019-08-06 18:53:04</td>\n",
       "      <td>2019-08-06 18:52:58</td>\n",
       "      <td>NaT</td>\n",
       "    </tr>\n",
       "    <tr>\n",
       "      <th>6922444491712477</th>\n",
       "      <td>2019-08-04 14:19:40</td>\n",
       "      <td>2019-08-04 14:19:33</td>\n",
       "      <td>2019-08-04 14:19:46</td>\n",
       "      <td>2019-08-04 14:19:40</td>\n",
       "      <td>NaT</td>\n",
       "    </tr>\n",
       "    <tr>\n",
       "      <th>7435777799948366</th>\n",
       "      <td>NaT</td>\n",
       "      <td>2019-08-05 08:06:34</td>\n",
       "      <td>NaT</td>\n",
       "      <td>NaT</td>\n",
       "      <td>NaT</td>\n",
       "    </tr>\n",
       "    <tr>\n",
       "      <th>7702139951469979</th>\n",
       "      <td>2019-08-02 14:28:45</td>\n",
       "      <td>2019-08-01 04:29:54</td>\n",
       "      <td>2019-08-01 04:29:56</td>\n",
       "      <td>2019-08-02 14:28:45</td>\n",
       "      <td>NaT</td>\n",
       "    </tr>\n",
       "  </tbody>\n",
       "</table>\n",
       "</div>"
      ],
      "text/plain": [
       "event_name          CartScreenAppear    MainScreenAppear  OffersScreenAppear  \\\n",
       "deviceID_hash                                                                  \n",
       "6888746892508752                 NaT 2019-08-06 14:06:34                 NaT   \n",
       "6909561520679493 2019-08-06 18:52:58 2019-08-06 18:52:54 2019-08-06 18:53:04   \n",
       "6922444491712477 2019-08-04 14:19:40 2019-08-04 14:19:33 2019-08-04 14:19:46   \n",
       "7435777799948366                 NaT 2019-08-05 08:06:34                 NaT   \n",
       "7702139951469979 2019-08-02 14:28:45 2019-08-01 04:29:54 2019-08-01 04:29:56   \n",
       "\n",
       "event_name       PaymentScreenSuccessful Tutorial  \n",
       "deviceID_hash                                      \n",
       "6888746892508752                     NaT      NaT  \n",
       "6909561520679493     2019-08-06 18:52:58      NaT  \n",
       "6922444491712477     2019-08-04 14:19:40      NaT  \n",
       "7435777799948366                     NaT      NaT  \n",
       "7702139951469979     2019-08-02 14:28:45      NaT  "
      ]
     },
     "execution_count": 42,
     "metadata": {},
     "output_type": "execute_result"
    }
   ],
   "source": [
    "# table of events done by users per date and time\n",
    "events = filter_log_data.pivot_table(index='deviceID_hash',columns='event_name',values='date_time',aggfunc='min')\n",
    "events.head()"
   ]
  },
  {
   "cell_type": "markdown",
   "metadata": {},
   "source": [
    "The table above shows the events performed by unique users by the specified date and time. Per the 2nd and 3rd row, the timeline of events based on the date_time values is as follows: Main Screen -> Cart Screen -> Payment Screen -> Offers Screen, while the 5rd row is Cart Screen -> Payment Screen -> Main Screen -> Offers Screen. This shows that there are discrepancies with how the data timeline is collected or there are bugs affecting the application."
   ]
  },
  {
   "cell_type": "code",
   "execution_count": 43,
   "metadata": {},
   "outputs": [
    {
     "name": "stdout",
     "output_type": "stream",
     "text": [
      "Users on main screen: 7429\n",
      "Users on offers screen: 4116\n",
      "Users on cart screen: 1672\n",
      "Users at payment screen: 453\n"
     ]
    }
   ],
   "source": [
    "# funnel analysis of unique users who performed all events sequentially\n",
    "step_1 = ~events['MainScreenAppear'].isna()\n",
    "step_2 = step_1 & (events['OffersScreenAppear'] > events['MainScreenAppear'])\n",
    "step_3 = step_2 & (events['CartScreenAppear'] > events['OffersScreenAppear'])\n",
    "step_4 = step_3 & (events['PaymentScreenSuccessful'] > events['CartScreenAppear'])\n",
    "\n",
    "n_mainscreen = events[step_1].shape[0]\n",
    "n_offers = events[step_2].shape[0]\n",
    "n_cart = events[step_3].shape[0]\n",
    "n_payment = events[step_4].shape[0]\n",
    "\n",
    "print('Users on main screen:', n_mainscreen)\n",
    "print('Users on offers screen:', n_offers)\n",
    "print('Users on cart screen:', n_cart)\n",
    "print('Users at payment screen:', n_payment) "
   ]
  },
  {
   "cell_type": "code",
   "execution_count": 44,
   "metadata": {},
   "outputs": [
    {
     "data": {
      "text/html": [
       "<div>\n",
       "<style scoped>\n",
       "    .dataframe tbody tr th:only-of-type {\n",
       "        vertical-align: middle;\n",
       "    }\n",
       "\n",
       "    .dataframe tbody tr th {\n",
       "        vertical-align: top;\n",
       "    }\n",
       "\n",
       "    .dataframe thead th {\n",
       "        text-align: right;\n",
       "    }\n",
       "</style>\n",
       "<table border=\"1\" class=\"dataframe\">\n",
       "  <thead>\n",
       "    <tr style=\"text-align: right;\">\n",
       "      <th></th>\n",
       "      <th>event_name</th>\n",
       "      <th>user_count</th>\n",
       "    </tr>\n",
       "  </thead>\n",
       "  <tbody>\n",
       "    <tr>\n",
       "      <th>0</th>\n",
       "      <td>MainScreenAppear</td>\n",
       "      <td>7429</td>\n",
       "    </tr>\n",
       "    <tr>\n",
       "      <th>1</th>\n",
       "      <td>OffersScreenAppear</td>\n",
       "      <td>4116</td>\n",
       "    </tr>\n",
       "    <tr>\n",
       "      <th>2</th>\n",
       "      <td>CartScreenAppear</td>\n",
       "      <td>1672</td>\n",
       "    </tr>\n",
       "    <tr>\n",
       "      <th>3</th>\n",
       "      <td>PaymentScreenSuccessful</td>\n",
       "      <td>453</td>\n",
       "    </tr>\n",
       "  </tbody>\n",
       "</table>\n",
       "</div>"
      ],
      "text/plain": [
       "                event_name  user_count\n",
       "0         MainScreenAppear        7429\n",
       "1       OffersScreenAppear        4116\n",
       "2         CartScreenAppear        1672\n",
       "3  PaymentScreenSuccessful         453"
      ]
     },
     "execution_count": 44,
     "metadata": {},
     "output_type": "execute_result"
    }
   ],
   "source": [
    "# dataframe of funnel analysis on events per users\n",
    "cols = ['event_name','user_count']\n",
    "details = [['MainScreenAppear',n_mainscreen],\n",
    "           ['OffersScreenAppear',n_offers],\n",
    "           ['CartScreenAppear',n_cart],\n",
    "           ['PaymentScreenSuccessful',n_payment],]\n",
    "event_table = pd.DataFrame(data = details, columns = cols)\n",
    "event_table"
   ]
  },
  {
   "cell_type": "code",
   "execution_count": 45,
   "metadata": {},
   "outputs": [
    {
     "data": {
      "text/html": [
       "<div>\n",
       "<style scoped>\n",
       "    .dataframe tbody tr th:only-of-type {\n",
       "        vertical-align: middle;\n",
       "    }\n",
       "\n",
       "    .dataframe tbody tr th {\n",
       "        vertical-align: top;\n",
       "    }\n",
       "\n",
       "    .dataframe thead th {\n",
       "        text-align: right;\n",
       "    }\n",
       "</style>\n",
       "<table border=\"1\" class=\"dataframe\">\n",
       "  <thead>\n",
       "    <tr style=\"text-align: right;\">\n",
       "      <th></th>\n",
       "      <th>event_name</th>\n",
       "      <th>user_count</th>\n",
       "      <th>share</th>\n",
       "    </tr>\n",
       "  </thead>\n",
       "  <tbody>\n",
       "    <tr>\n",
       "      <th>0</th>\n",
       "      <td>MainScreenAppear</td>\n",
       "      <td>7429</td>\n",
       "      <td>NaN</td>\n",
       "    </tr>\n",
       "    <tr>\n",
       "      <th>1</th>\n",
       "      <td>OffersScreenAppear</td>\n",
       "      <td>4116</td>\n",
       "      <td>-44.595504</td>\n",
       "    </tr>\n",
       "    <tr>\n",
       "      <th>2</th>\n",
       "      <td>CartScreenAppear</td>\n",
       "      <td>1672</td>\n",
       "      <td>-59.378037</td>\n",
       "    </tr>\n",
       "    <tr>\n",
       "      <th>3</th>\n",
       "      <td>PaymentScreenSuccessful</td>\n",
       "      <td>453</td>\n",
       "      <td>-72.906699</td>\n",
       "    </tr>\n",
       "  </tbody>\n",
       "</table>\n",
       "</div>"
      ],
      "text/plain": [
       "                event_name  user_count      share\n",
       "0         MainScreenAppear        7429        NaN\n",
       "1       OffersScreenAppear        4116 -44.595504\n",
       "2         CartScreenAppear        1672 -59.378037\n",
       "3  PaymentScreenSuccessful         453 -72.906699"
      ]
     },
     "execution_count": 45,
     "metadata": {},
     "output_type": "execute_result"
    }
   ],
   "source": [
    "# share of users who performed the events sequentially\n",
    "event_table['share'] = event_table['user_count'].pct_change() * 100\n",
    "event_table"
   ]
  },
  {
   "cell_type": "markdown",
   "metadata": {},
   "source": [
    "The Tutorial screen is not relevant to the analysis above so it was ignored.\n",
    "From the Main screen to the Offers screen there was a loss of ~45% of users. From Offers screen to Cart screen -  a loss of 59% users. Finally from Cart screen to Payment screen, there was a massive loss of ~73% users. Therefore, the event with the most loss is the Payment screen.\n",
    "\n",
    "From this result, I infer that the event funnel progresses as follows: Main Screen -> Offers Screen -> Cart Screen -> Payment Screen"
   ]
  },
  {
   "cell_type": "code",
   "execution_count": 46,
   "metadata": {},
   "outputs": [
    {
     "data": {
      "text/plain": [
       "6.231768761601697"
      ]
     },
     "execution_count": 46,
     "metadata": {},
     "output_type": "execute_result"
    }
   ],
   "source": [
    "#share of users who perform all events\n",
    "test[test['event_name'].map(len) == 5].shape[0] / filter_log_data['deviceID_hash'].nunique() * 100"
   ]
  },
  {
   "cell_type": "markdown",
   "metadata": {},
   "source": [
    "Only about 6% of the total users performed all 5 events. This is the share of users who make the entire journey from their first event to payment."
   ]
  },
  {
   "cell_type": "markdown",
   "metadata": {},
   "source": [
    "### Study the Results of the Experiment"
   ]
  },
  {
   "cell_type": "code",
   "execution_count": 47,
   "metadata": {},
   "outputs": [
    {
     "data": {
      "text/plain": [
       "expId\n",
       "246    2485\n",
       "247    2517\n",
       "248    2540\n",
       "Name: deviceID_hash, dtype: int64"
      ]
     },
     "execution_count": 47,
     "metadata": {},
     "output_type": "execute_result"
    }
   ],
   "source": [
    "# number of unique users in each group\n",
    "filter_log_data.groupby('expId')['deviceID_hash'].nunique()"
   ]
  },
  {
   "cell_type": "code",
   "execution_count": 48,
   "metadata": {},
   "outputs": [
    {
     "data": {
      "text/html": [
       "<div>\n",
       "<style scoped>\n",
       "    .dataframe tbody tr th:only-of-type {\n",
       "        vertical-align: middle;\n",
       "    }\n",
       "\n",
       "    .dataframe tbody tr th {\n",
       "        vertical-align: top;\n",
       "    }\n",
       "\n",
       "    .dataframe thead th {\n",
       "        text-align: right;\n",
       "    }\n",
       "</style>\n",
       "<table border=\"1\" class=\"dataframe\">\n",
       "  <thead>\n",
       "    <tr style=\"text-align: right;\">\n",
       "      <th>event_name</th>\n",
       "      <th>MainScreenAppear</th>\n",
       "      <th>OffersScreenAppear</th>\n",
       "      <th>CartScreenAppear</th>\n",
       "      <th>PaymentScreenSuccessful</th>\n",
       "      <th>Tutorial</th>\n",
       "    </tr>\n",
       "    <tr>\n",
       "      <th>expId</th>\n",
       "      <th></th>\n",
       "      <th></th>\n",
       "      <th></th>\n",
       "      <th></th>\n",
       "      <th></th>\n",
       "    </tr>\n",
       "  </thead>\n",
       "  <tbody>\n",
       "    <tr>\n",
       "      <th>246</th>\n",
       "      <td>2452</td>\n",
       "      <td>1544</td>\n",
       "      <td>1267</td>\n",
       "      <td>1200</td>\n",
       "      <td>278</td>\n",
       "    </tr>\n",
       "    <tr>\n",
       "      <th>247</th>\n",
       "      <td>2479</td>\n",
       "      <td>1526</td>\n",
       "      <td>1239</td>\n",
       "      <td>1159</td>\n",
       "      <td>285</td>\n",
       "    </tr>\n",
       "    <tr>\n",
       "      <th>248</th>\n",
       "      <td>2498</td>\n",
       "      <td>1536</td>\n",
       "      <td>1236</td>\n",
       "      <td>1183</td>\n",
       "      <td>282</td>\n",
       "    </tr>\n",
       "  </tbody>\n",
       "</table>\n",
       "</div>"
      ],
      "text/plain": [
       "event_name  MainScreenAppear  OffersScreenAppear  CartScreenAppear  \\\n",
       "expId                                                                \n",
       "246                     2452                1544              1267   \n",
       "247                     2479                1526              1239   \n",
       "248                     2498                1536              1236   \n",
       "\n",
       "event_name  PaymentScreenSuccessful  Tutorial  \n",
       "expId                                          \n",
       "246                            1200       278  \n",
       "247                            1159       285  \n",
       "248                            1183       282  "
      ]
     },
     "execution_count": 48,
     "metadata": {},
     "output_type": "execute_result"
    }
   ],
   "source": [
    "# pivot table of events performed by users in each group\n",
    "group_pivot = filter_log_data.pivot_table(index = 'expId', columns = 'event_name', values = 'deviceID_hash', aggfunc = 'nunique', margins = True).sort_values(by = 'All', axis = 1, ascending = False)\n",
    "group_pivot.drop(index = 'All', columns = 'All', inplace = True)\n",
    "group_pivot"
   ]
  },
  {
   "cell_type": "code",
   "execution_count": 49,
   "metadata": {},
   "outputs": [
    {
     "data": {
      "text/html": [
       "<div>\n",
       "<style scoped>\n",
       "    .dataframe tbody tr th:only-of-type {\n",
       "        vertical-align: middle;\n",
       "    }\n",
       "\n",
       "    .dataframe tbody tr th {\n",
       "        vertical-align: top;\n",
       "    }\n",
       "\n",
       "    .dataframe thead th {\n",
       "        text-align: right;\n",
       "    }\n",
       "</style>\n",
       "<table border=\"1\" class=\"dataframe\">\n",
       "  <thead>\n",
       "    <tr style=\"text-align: right;\">\n",
       "      <th>event_name</th>\n",
       "      <th>MainScreenAppear</th>\n",
       "      <th>OffersScreenAppear</th>\n",
       "      <th>CartScreenAppear</th>\n",
       "      <th>PaymentScreenSuccessful</th>\n",
       "      <th>Tutorial</th>\n",
       "    </tr>\n",
       "    <tr>\n",
       "      <th>expId</th>\n",
       "      <th></th>\n",
       "      <th></th>\n",
       "      <th></th>\n",
       "      <th></th>\n",
       "      <th></th>\n",
       "    </tr>\n",
       "  </thead>\n",
       "  <tbody>\n",
       "    <tr>\n",
       "      <th>246</th>\n",
       "      <td>32.511270</td>\n",
       "      <td>20.472023</td>\n",
       "      <td>16.799257</td>\n",
       "      <td>15.910899</td>\n",
       "      <td>3.686025</td>\n",
       "    </tr>\n",
       "    <tr>\n",
       "      <th>247</th>\n",
       "      <td>32.869265</td>\n",
       "      <td>20.233360</td>\n",
       "      <td>16.428003</td>\n",
       "      <td>15.367277</td>\n",
       "      <td>3.778839</td>\n",
       "    </tr>\n",
       "    <tr>\n",
       "      <th>248</th>\n",
       "      <td>33.121188</td>\n",
       "      <td>20.365951</td>\n",
       "      <td>16.388226</td>\n",
       "      <td>15.685495</td>\n",
       "      <td>3.739061</td>\n",
       "    </tr>\n",
       "  </tbody>\n",
       "</table>\n",
       "</div>"
      ],
      "text/plain": [
       "event_name  MainScreenAppear  OffersScreenAppear  CartScreenAppear  \\\n",
       "expId                                                                \n",
       "246                32.511270           20.472023         16.799257   \n",
       "247                32.869265           20.233360         16.428003   \n",
       "248                33.121188           20.365951         16.388226   \n",
       "\n",
       "event_name  PaymentScreenSuccessful  Tutorial  \n",
       "expId                                          \n",
       "246                       15.910899  3.686025  \n",
       "247                       15.367277  3.778839  \n",
       "248                       15.685495  3.739061  "
      ]
     },
     "execution_count": 49,
     "metadata": {},
     "output_type": "execute_result"
    }
   ],
   "source": [
    "# share of users who performed events per group\n",
    "group_pivot/filter_log_data['deviceID_hash'].nunique() * 100"
   ]
  },
  {
   "cell_type": "markdown",
   "metadata": {},
   "source": [
    "As expected based on our analysis above, MainScreenAppear is the most popular event performed by users in all 3 groups represented by about 33% of all users across the 3 groups.\n",
    "\n",
    "Let us proceed with the analysis of the hypotheses."
   ]
  },
  {
   "cell_type": "markdown",
   "metadata": {},
   "source": [
    "**Hypotheses**\n",
    "\n",
    "H0 (Null): The difference between both test groups based on the proportions of users at different funnel stages is not statistically significant\n",
    "\n",
    "H1 (Alternative): The difference between both test groups based on the proportions of users at different funnel stages is statistically significant"
   ]
  },
  {
   "cell_type": "code",
   "execution_count": 50,
   "metadata": {},
   "outputs": [],
   "source": [
    "def stat_difference(successes, trials):\n",
    "    \n",
    "    alpha = 0.05 # significance level\n",
    "\n",
    "    # success proportion in the first group:\n",
    "    p1 = successes[0]/trials[0]\n",
    "\n",
    "    # success proportion in the second group:\n",
    "    p2 = successes[1]/trials[1]\n",
    "\n",
    "    # success proportion in the combined dataset:\n",
    "    p_combined = (successes[0] + successes[1]) / (trials[0] + trials[1])\n",
    "\n",
    "    # the difference between the datasets' proportions\n",
    "    difference = p1 - p2\n",
    "\n",
    "    # calculating the statistic in standard deviations of the standard normal distribution\n",
    "    z_value = difference / math.sqrt(p_combined * (1 - p_combined) * (1/trials[0] + 1/trials[1]))\n",
    "\n",
    "    # setting up the standard normal distribution (mean 0, standard deviation 1)\n",
    "    distr = st.norm(0, 1)\n",
    "    # calculating the statistic in standard deviations of the standard normal distribution\n",
    "    z_value = difference / math.sqrt(p_combined * (1 - p_combined) * (1/trials[0] + 1/trials[1]))\n",
    "\n",
    "    # setting up the standard normal distribution (mean 0, standard deviation 1)\n",
    "    distr = st.norm(0, 1)\n",
    "\n",
    "    p_value = (1 - distr.cdf(abs(z_value))) * 2\n",
    "\n",
    "    print('p-value: ', p_value)\n",
    "\n",
    "    if (p_value < alpha):\n",
    "        return \"Null hypothesis rejected: the difference is statistically significant\"\n",
    "\n",
    "    else:\n",
    "        return \"Failed to reject the null hypothesis: we can't make conclusions about the difference\"\n"
   ]
  },
  {
   "cell_type": "code",
   "execution_count": 51,
   "metadata": {},
   "outputs": [],
   "source": [
    "# group pivot table with totals\n",
    "group_with_total = filter_log_data.pivot_table(index = 'expId', columns = 'event_name', values = 'deviceID_hash', aggfunc = 'nunique', margins = True)\n",
    "group_with_total.reset_index(inplace = True)"
   ]
  },
  {
   "cell_type": "code",
   "execution_count": 52,
   "metadata": {},
   "outputs": [
    {
     "data": {
      "text/html": [
       "<div>\n",
       "<style scoped>\n",
       "    .dataframe tbody tr th:only-of-type {\n",
       "        vertical-align: middle;\n",
       "    }\n",
       "\n",
       "    .dataframe tbody tr th {\n",
       "        vertical-align: top;\n",
       "    }\n",
       "\n",
       "    .dataframe thead th {\n",
       "        text-align: right;\n",
       "    }\n",
       "</style>\n",
       "<table border=\"1\" class=\"dataframe\">\n",
       "  <thead>\n",
       "    <tr style=\"text-align: right;\">\n",
       "      <th>event_name</th>\n",
       "      <th>expId</th>\n",
       "      <th>CartScreenAppear</th>\n",
       "      <th>MainScreenAppear</th>\n",
       "      <th>OffersScreenAppear</th>\n",
       "      <th>PaymentScreenSuccessful</th>\n",
       "      <th>Tutorial</th>\n",
       "      <th>All</th>\n",
       "    </tr>\n",
       "  </thead>\n",
       "  <tbody>\n",
       "    <tr>\n",
       "      <th>0</th>\n",
       "      <td>246</td>\n",
       "      <td>1267</td>\n",
       "      <td>2452</td>\n",
       "      <td>1544</td>\n",
       "      <td>1200</td>\n",
       "      <td>278</td>\n",
       "      <td>2485</td>\n",
       "    </tr>\n",
       "    <tr>\n",
       "      <th>1</th>\n",
       "      <td>247</td>\n",
       "      <td>1239</td>\n",
       "      <td>2479</td>\n",
       "      <td>1526</td>\n",
       "      <td>1159</td>\n",
       "      <td>285</td>\n",
       "      <td>2517</td>\n",
       "    </tr>\n",
       "    <tr>\n",
       "      <th>2</th>\n",
       "      <td>248</td>\n",
       "      <td>1236</td>\n",
       "      <td>2498</td>\n",
       "      <td>1536</td>\n",
       "      <td>1183</td>\n",
       "      <td>282</td>\n",
       "      <td>2540</td>\n",
       "    </tr>\n",
       "    <tr>\n",
       "      <th>3</th>\n",
       "      <td>All</td>\n",
       "      <td>3742</td>\n",
       "      <td>7429</td>\n",
       "      <td>4606</td>\n",
       "      <td>3542</td>\n",
       "      <td>845</td>\n",
       "      <td>7542</td>\n",
       "    </tr>\n",
       "  </tbody>\n",
       "</table>\n",
       "</div>"
      ],
      "text/plain": [
       "event_name expId  CartScreenAppear  MainScreenAppear  OffersScreenAppear  \\\n",
       "0            246              1267              2452                1544   \n",
       "1            247              1239              2479                1526   \n",
       "2            248              1236              2498                1536   \n",
       "3            All              3742              7429                4606   \n",
       "\n",
       "event_name  PaymentScreenSuccessful  Tutorial   All  \n",
       "0                              1200       278  2485  \n",
       "1                              1159       285  2517  \n",
       "2                              1183       282  2540  \n",
       "3                              3542       845  7542  "
      ]
     },
     "execution_count": 52,
     "metadata": {},
     "output_type": "execute_result"
    }
   ],
   "source": [
    "# view table\n",
    "group_with_total"
   ]
  },
  {
   "cell_type": "code",
   "execution_count": 53,
   "metadata": {
    "scrolled": true
   },
   "outputs": [
    {
     "name": "stdout",
     "output_type": "stream",
     "text": [
      "p-value:  [0.58687768]\n"
     ]
    },
    {
     "data": {
      "text/plain": [
       "\"Failed to reject the null hypothesis: we can't make conclusions about the difference\""
      ]
     },
     "execution_count": 53,
     "metadata": {},
     "output_type": "execute_result"
    }
   ],
   "source": [
    "# Main screen- finding statistical significance\n",
    "sample1 = np.array([group_with_total[group_with_total['expId'] == 246]['MainScreenAppear'],group_with_total[group_with_total['expId'] == 247]['MainScreenAppear']])\n",
    "         \n",
    "sample2 = np.array([group_with_total[group_with_total['expId'] == 246]['All'],group_with_total[group_with_total['expId'] == 247]['All']])\n",
    "         \n",
    "stat_difference(sample1, sample2)"
   ]
  },
  {
   "cell_type": "code",
   "execution_count": 54,
   "metadata": {},
   "outputs": [
    {
     "name": "stdout",
     "output_type": "stream",
     "text": [
      "p-value:  [0.2743506]\n"
     ]
    },
    {
     "data": {
      "text/plain": [
       "\"Failed to reject the null hypothesis: we can't make conclusions about the difference\""
      ]
     },
     "execution_count": 54,
     "metadata": {},
     "output_type": "execute_result"
    }
   ],
   "source": [
    "# Offer screen - finding statistical significance\n",
    "sample1 = np.array([group_with_total[group_with_total['expId'] == 246]['OffersScreenAppear'],group_with_total[group_with_total['expId'] == 247]['OffersScreenAppear']])\n",
    "         \n",
    "sample2 = np.array([group_with_total[group_with_total['expId'] == 246]['All'],group_with_total[group_with_total['expId'] == 247]['All']])\n",
    "         \n",
    "stat_difference(sample1, sample2)"
   ]
  },
  {
   "cell_type": "code",
   "execution_count": 55,
   "metadata": {},
   "outputs": [
    {
     "name": "stdout",
     "output_type": "stream",
     "text": [
      "p-value:  [0.21306132]\n"
     ]
    },
    {
     "data": {
      "text/plain": [
       "\"Failed to reject the null hypothesis: we can't make conclusions about the difference\""
      ]
     },
     "execution_count": 55,
     "metadata": {},
     "output_type": "execute_result"
    }
   ],
   "source": [
    "# Cart screen- finding statistical significance\n",
    "sample1 = np.array([group_with_total[group_with_total['expId'] == 246]['CartScreenAppear'],group_with_total[group_with_total['expId'] == 247]['CartScreenAppear']])\n",
    "         \n",
    "sample2 = np.array([group_with_total[group_with_total['expId'] == 246]['All'],group_with_total[group_with_total['expId'] == 247]['All']])\n",
    "         \n",
    "stat_difference(sample1, sample2)"
   ]
  },
  {
   "cell_type": "code",
   "execution_count": 56,
   "metadata": {},
   "outputs": [
    {
     "name": "stdout",
     "output_type": "stream",
     "text": [
      "p-value:  [0.11210845]\n"
     ]
    },
    {
     "data": {
      "text/plain": [
       "\"Failed to reject the null hypothesis: we can't make conclusions about the difference\""
      ]
     },
     "execution_count": 56,
     "metadata": {},
     "output_type": "execute_result"
    }
   ],
   "source": [
    "# Payment screen- finding statistical significance\n",
    "sample1 = np.array([group_with_total[group_with_total['expId'] == 246]['PaymentScreenSuccessful'],group_with_total[group_with_total['expId'] == 247]['PaymentScreenSuccessful']])\n",
    "         \n",
    "sample2 = np.array([group_with_total[group_with_total['expId'] == 246]['All'],group_with_total[group_with_total['expId'] == 247]['All']])\n",
    "         \n",
    "stat_difference(sample1, sample2)"
   ]
  },
  {
   "cell_type": "code",
   "execution_count": 57,
   "metadata": {},
   "outputs": [
    {
     "name": "stdout",
     "output_type": "stream",
     "text": [
      "p-value:  [0.87916084]\n"
     ]
    },
    {
     "data": {
      "text/plain": [
       "\"Failed to reject the null hypothesis: we can't make conclusions about the difference\""
      ]
     },
     "execution_count": 57,
     "metadata": {},
     "output_type": "execute_result"
    }
   ],
   "source": [
    "# Tutorial screen- finding statistical significance\n",
    "sample1 = np.array([group_with_total[group_with_total['expId'] == 246]['Tutorial'],group_with_total[group_with_total['expId'] == 247]['Tutorial']])\n",
    "         \n",
    "sample2 = np.array([group_with_total[group_with_total['expId'] == 246]['All'],group_with_total[group_with_total['expId'] == 247]['All']])\n",
    "         \n",
    "stat_difference(sample1, sample2)"
   ]
  },
  {
   "cell_type": "markdown",
   "metadata": {},
   "source": [
    "Based on our results above, we failed to reject the hypothesis as there is no conclusive evidence that the difference between the 2 alpha groups is statistically significant. This proves that the groups were properly split.\n",
    "\n",
    "\n",
    "We will now determine if the difference between the alpha groups and the beta group, 246 and 248, is significantly significant."
   ]
  },
  {
   "cell_type": "code",
   "execution_count": 58,
   "metadata": {
    "scrolled": true
   },
   "outputs": [
    {
     "name": "stdout",
     "output_type": "stream",
     "text": [
      "p-value:  [0.34128639]\n"
     ]
    },
    {
     "data": {
      "text/plain": [
       "\"Failed to reject the null hypothesis: we can't make conclusions about the difference\""
      ]
     },
     "execution_count": 58,
     "metadata": {},
     "output_type": "execute_result"
    }
   ],
   "source": [
    "# Main screen- finding statistical significance\n",
    "sample1 = np.array([group_with_total[group_with_total['expId'] == 246]['MainScreenAppear'],group_with_total[group_with_total['expId'] == 248]['MainScreenAppear']])\n",
    "         \n",
    "sample2 = np.array([group_with_total[group_with_total['expId'] == 246]['All'],group_with_total[group_with_total['expId'] == 248]['All']])\n",
    "         \n",
    "stat_difference(sample1, sample2)"
   ]
  },
  {
   "cell_type": "code",
   "execution_count": 59,
   "metadata": {},
   "outputs": [
    {
     "name": "stdout",
     "output_type": "stream",
     "text": [
      "p-value:  [0.2269968]\n"
     ]
    },
    {
     "data": {
      "text/plain": [
       "\"Failed to reject the null hypothesis: we can't make conclusions about the difference\""
      ]
     },
     "execution_count": 59,
     "metadata": {},
     "output_type": "execute_result"
    }
   ],
   "source": [
    "# Offer screen - finding statistical significance\n",
    "sample1 = np.array([group_with_total[group_with_total['expId'] == 246]['OffersScreenAppear'],group_with_total[group_with_total['expId'] == 248]['OffersScreenAppear']])\n",
    "         \n",
    "sample2 = np.array([group_with_total[group_with_total['expId'] == 246]['All'],group_with_total[group_with_total['expId'] == 248]['All']])\n",
    "         \n",
    "stat_difference(sample1, sample2)"
   ]
  },
  {
   "cell_type": "code",
   "execution_count": 60,
   "metadata": {},
   "outputs": [
    {
     "name": "stdout",
     "output_type": "stream",
     "text": [
      "p-value:  [0.09941722]\n"
     ]
    },
    {
     "data": {
      "text/plain": [
       "\"Failed to reject the null hypothesis: we can't make conclusions about the difference\""
      ]
     },
     "execution_count": 60,
     "metadata": {},
     "output_type": "execute_result"
    }
   ],
   "source": [
    "# Cart screen- finding statistical significance\n",
    "sample1 = np.array([group_with_total[group_with_total['expId'] == 246]['CartScreenAppear'],group_with_total[group_with_total['expId'] == 248]['CartScreenAppear']])\n",
    "         \n",
    "sample2 = np.array([group_with_total[group_with_total['expId'] == 246]['All'],group_with_total[group_with_total['expId'] == 248]['All']])\n",
    "         \n",
    "stat_difference(sample1, sample2)"
   ]
  },
  {
   "cell_type": "markdown",
   "metadata": {},
   "source": [
    "The above test failed to reject the null hypothesis because of the statistical significance level of 0.05. With a statistical significance level of 0.1, we could have achieved a false positive result as the p-value(0.09941722) is less than 0.1. So even if there are no significant diffrerences between the groups, we would have to reject the null hypothesis."
   ]
  },
  {
   "cell_type": "code",
   "execution_count": 61,
   "metadata": {},
   "outputs": [
    {
     "name": "stdout",
     "output_type": "stream",
     "text": [
      "p-value:  [0.22352232]\n"
     ]
    },
    {
     "data": {
      "text/plain": [
       "\"Failed to reject the null hypothesis: we can't make conclusions about the difference\""
      ]
     },
     "execution_count": 61,
     "metadata": {},
     "output_type": "execute_result"
    }
   ],
   "source": [
    "# Payment screen- finding statistical significance\n",
    "sample1 = np.array([group_with_total[group_with_total['expId'] == 246]['PaymentScreenSuccessful'],group_with_total[group_with_total['expId'] == 248]['PaymentScreenSuccessful']])\n",
    "         \n",
    "sample2 = np.array([group_with_total[group_with_total['expId'] == 246]['All'],group_with_total[group_with_total['expId'] == 248]['All']])\n",
    "         \n",
    "stat_difference(sample1, sample2)"
   ]
  },
  {
   "cell_type": "code",
   "execution_count": 62,
   "metadata": {},
   "outputs": [
    {
     "name": "stdout",
     "output_type": "stream",
     "text": [
      "p-value:  [0.92394674]\n"
     ]
    },
    {
     "data": {
      "text/plain": [
       "\"Failed to reject the null hypothesis: we can't make conclusions about the difference\""
      ]
     },
     "execution_count": 62,
     "metadata": {},
     "output_type": "execute_result"
    }
   ],
   "source": [
    "# Tutorial screen- finding statistical significance\n",
    "sample1 = np.array([group_with_total[group_with_total['expId'] == 246]['Tutorial'],group_with_total[group_with_total['expId'] == 248]['Tutorial']])\n",
    "         \n",
    "sample2 = np.array([group_with_total[group_with_total['expId'] == 246]['All'],group_with_total[group_with_total['expId'] == 248]['All']])\n",
    "         \n",
    "stat_difference(sample1, sample2)"
   ]
  },
  {
   "cell_type": "markdown",
   "metadata": {},
   "source": [
    "The analysis between the 1st alpha group - 246 and the beta group - 248 gives the same result as that above of both alpha groups where we rejected the null hypothesis as we can't make conclusions about the difference between the groups.\n",
    "\n",
    "We will now conduct analysis between the 2nd alpha group - 247 and the beta group - 248."
   ]
  },
  {
   "cell_type": "code",
   "execution_count": 63,
   "metadata": {
    "scrolled": true
   },
   "outputs": [
    {
     "name": "stdout",
     "output_type": "stream",
     "text": [
      "p-value:  [0.68195838]\n"
     ]
    },
    {
     "data": {
      "text/plain": [
       "\"Failed to reject the null hypothesis: we can't make conclusions about the difference\""
      ]
     },
     "execution_count": 63,
     "metadata": {},
     "output_type": "execute_result"
    }
   ],
   "source": [
    "# Main screen- finding statistical significance\n",
    "sample1 = np.array([group_with_total[group_with_total['expId'] == 247]['MainScreenAppear'],group_with_total[group_with_total['expId'] == 248]['MainScreenAppear']])\n",
    "         \n",
    "sample2 = np.array([group_with_total[group_with_total['expId'] == 247]['All'],group_with_total[group_with_total['expId'] == 248]['All']])\n",
    "         \n",
    "stat_difference(sample1, sample2)"
   ]
  },
  {
   "cell_type": "code",
   "execution_count": 64,
   "metadata": {},
   "outputs": [
    {
     "name": "stdout",
     "output_type": "stream",
     "text": [
      "p-value:  [0.91005174]\n"
     ]
    },
    {
     "data": {
      "text/plain": [
       "\"Failed to reject the null hypothesis: we can't make conclusions about the difference\""
      ]
     },
     "execution_count": 64,
     "metadata": {},
     "output_type": "execute_result"
    }
   ],
   "source": [
    "# Offer screen - finding statistical significance\n",
    "sample1 = np.array([group_with_total[group_with_total['expId'] == 247]['OffersScreenAppear'],group_with_total[group_with_total['expId'] == 248]['OffersScreenAppear']])\n",
    "         \n",
    "sample2 = np.array([group_with_total[group_with_total['expId'] == 247]['All'],group_with_total[group_with_total['expId'] == 248]['All']])\n",
    "         \n",
    "stat_difference(sample1, sample2)"
   ]
  },
  {
   "cell_type": "code",
   "execution_count": 65,
   "metadata": {},
   "outputs": [
    {
     "name": "stdout",
     "output_type": "stream",
     "text": [
      "p-value:  [0.68837995]\n"
     ]
    },
    {
     "data": {
      "text/plain": [
       "\"Failed to reject the null hypothesis: we can't make conclusions about the difference\""
      ]
     },
     "execution_count": 65,
     "metadata": {},
     "output_type": "execute_result"
    }
   ],
   "source": [
    "# Cart screen- finding statistical significance\n",
    "sample1 = np.array([group_with_total[group_with_total['expId'] == 247]['CartScreenAppear'],group_with_total[group_with_total['expId'] == 248]['CartScreenAppear']])\n",
    "         \n",
    "sample2 = np.array([group_with_total[group_with_total['expId'] == 247]['All'],group_with_total[group_with_total['expId'] == 248]['All']])\n",
    "         \n",
    "stat_difference(sample1, sample2)"
   ]
  },
  {
   "cell_type": "code",
   "execution_count": 66,
   "metadata": {},
   "outputs": [
    {
     "name": "stdout",
     "output_type": "stream",
     "text": [
      "p-value:  [0.70658947]\n"
     ]
    },
    {
     "data": {
      "text/plain": [
       "\"Failed to reject the null hypothesis: we can't make conclusions about the difference\""
      ]
     },
     "execution_count": 66,
     "metadata": {},
     "output_type": "execute_result"
    }
   ],
   "source": [
    "# Payment screen- finding statistical significance\n",
    "sample1 = np.array([group_with_total[group_with_total['expId'] == 247]['PaymentScreenSuccessful'],group_with_total[group_with_total['expId'] == 248]['PaymentScreenSuccessful']])\n",
    "         \n",
    "sample2 = np.array([group_with_total[group_with_total['expId'] == 247]['All'],group_with_total[group_with_total['expId'] == 248]['All']])\n",
    "         \n",
    "stat_difference(sample1, sample2)"
   ]
  },
  {
   "cell_type": "code",
   "execution_count": 67,
   "metadata": {},
   "outputs": [
    {
     "name": "stdout",
     "output_type": "stream",
     "text": [
      "p-value:  [0.80363652]\n"
     ]
    },
    {
     "data": {
      "text/plain": [
       "\"Failed to reject the null hypothesis: we can't make conclusions about the difference\""
      ]
     },
     "execution_count": 67,
     "metadata": {},
     "output_type": "execute_result"
    }
   ],
   "source": [
    "# Tutorial screen- finding statistical significance\n",
    "sample1 = np.array([group_with_total[group_with_total['expId'] == 247]['Tutorial'],group_with_total[group_with_total['expId'] == 248]['Tutorial']])\n",
    "         \n",
    "sample2 = np.array([group_with_total[group_with_total['expId'] == 247]['All'],group_with_total[group_with_total['expId'] == 248]['All']])\n",
    "         \n",
    "stat_difference(sample1, sample2)"
   ]
  },
  {
   "cell_type": "markdown",
   "metadata": {},
   "source": [
    "The results of the analysis are similar to the previous tests, the only difference is that the p-values are higher compared to those for the test between groups 246 and 248 and the test between the alpha groups - 246 and 247.\n",
    "\n",
    "\n",
    "There were 15 tests conducted, so I chose 0.05 as the statistical significance level over 0.1 so as to avoid getting a false positive result as explained above for the outcome of the p-value for the Cart Screen test between groups 246 and 248."
   ]
  },
  {
   "cell_type": "markdown",
   "metadata": {},
   "source": [
    "## General Conclusion"
   ]
  },
  {
   "cell_type": "markdown",
   "metadata": {},
   "source": [
    "From our preprocessing, there are no missing values in the dataset. There were 413 duplicates which were dropped as they were minimal in comparison to our total dataset with over 200,000 logs. There were 7551 unique users recorded in the data. There are also 3 test groups - A/A/B groups - of users in the log. The result of data queries on all 3 test groups indicates that there are no users in multiple groups simultaneously. Every user represented in the dataset are in one distinct group each.\n",
    "There are 5 unique events in the log namely: 'MainScreenAppear', 'PaymentScreenSuccessful', 'CartScreenAppear', 'OffersScreenAppear' and 'Tutorial'.\n",
    "\n",
    "We created a histogram of user data per date and time which shows a negative skew as more lower-level data are abundant on the left side of the chart. The data starts to be more complete from 2019-07-31 compared to the data portrayed in the duration of 2019-07-25 to 2019-07-30. We thus dropped the incomplete data.\n",
    "\n",
    "The event \"MainScreenAppear\" is understandably the most frequent event as this is the first page or screen visitors access on the app. Over 98% users encountered the Main screen compared with the Tutorial which only about 11% of the users partook in. This could be due to the use of a skip function which directly navigates the user from the Tutorial screen to the Main screen. The same can be said about users in the groups as the event \"MainScreenAppear\" accounts for about 33% of all users for each of the 3 groups while \"Tutorial\" accounts for just under 4% of all users per group.\n",
    "\n",
    "We also created a graph which shows large distinctions among the frequency of events performed by users daily. Tutorial is the lowest on the spectrum while Main Screen Appear is the highest. There was a sharp incline on the graph from July 31 to August 1 2019. From that point, the graph progresses on a steady line though the difference in user count among the events still remain.\n",
    "\n",
    "Based on the data showing the events performed by users based on date and time, there were different resulting timelines of event progression which shows that there are discrepancies with how the data timeline is collected or there are bugs affecting the application.\n",
    "\n",
    "The Tutorial screen is not relevant to our analysis so it was ignored. From the Main screen to the Offers screen there was a loss of ~45% of users. From Offers screen to Cart screen - a loss of 59% users. Finally from Cart screen to Payment screen, there was a massive loss of ~73% users. Therefore, the event with the most loss is the Payment screen.\n",
    "\n",
    "From this, we can infer that the event funnel progresses as follows: Tutorial -> Main Screen -> Offers Screen -> Cart Screen -> Payment Screen\n",
    "\n",
    "Only about 6% of the total users performed all 5 events. This is the share of users who make the entire journey from their first event to payment.\n",
    "\n",
    "Lastly, for all our statistical tests, we failed to reject the hypothesis as there were no conclusive evidence that the difference between the 3 groups are statistically significant. We can thus infer that the groups were properly split.\n",
    "\n",
    "There were 15 tests conducted, so I chose 0.05 as the statistical significance level over 0.1 so as to avoid getting a false positive result. This is because for the outcome of the p-value for the Cart Screen test between groups 246 and 248, we failed to reject the null hypothesis because of the statistical significance level of 0.05. With a statistical significance level of 0.1, we could have achieved a false positive result as the p-value(0.09941722) is less than 0.1. So even if there are no significant differences between the groups, we would have to reject the null hypothesis.\n",
    "\n",
    "Based on our analysis and results of the hypotheses tests, there was no conclusive difference amongst any of the test groups so we can determine that the implementation of a new font system in the application will not have much of an impact on the users and can thus be approved."
   ]
  }
 ],
 "metadata": {
  "kernelspec": {
   "display_name": "Python 3 (ipykernel)",
   "language": "python",
   "name": "python3"
  },
  "language_info": {
   "codemirror_mode": {
    "name": "ipython",
    "version": 3
   },
   "file_extension": ".py",
   "mimetype": "text/x-python",
   "name": "python",
   "nbconvert_exporter": "python",
   "pygments_lexer": "ipython3",
   "version": "3.9.7"
  },
  "toc": {
   "base_numbering": 1,
   "nav_menu": {},
   "number_sections": true,
   "sideBar": true,
   "skip_h1_title": true,
   "title_cell": "Table of Contents",
   "title_sidebar": "Contents",
   "toc_cell": false,
   "toc_position": {},
   "toc_section_display": true,
   "toc_window_display": false
  }
 },
 "nbformat": 4,
 "nbformat_minor": 2
}
